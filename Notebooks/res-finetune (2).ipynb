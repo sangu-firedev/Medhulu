{
 "cells": [
  {
   "cell_type": "code",
   "execution_count": null,
   "metadata": {
    "_cell_guid": "b1076dfc-b9ad-4769-8c92-a6c4dae69d19",
    "_uuid": "8f2839f25d086af736a60e9eeb907d3b93b6e0e5"
   },
   "outputs": [],
   "source": [
    "# This Python 3 environment comes with many helpful analytics libraries installed\n",
    "# It is defined by the kaggle/python Docker image: https://github.com/kaggle/docker-python\n",
    "# For example, here's several helpful packages to load\n",
    "\n",
    "import numpy as np # linear algebra\n",
    "import pandas as pd # data processing, CSV file I/O (e.g. pd.read_csv)\n",
    "\n",
    "# Input data files are available in the read-only \"../input/\" directory\n",
    "# For example, running this (by clicking run or pressing Shift+Enter) will list all files under the input directory\n",
    "\n",
    "import os\n",
    "for dirname, _, filenames in os.walk('/kaggle/input'):\n",
    "    for filename in filenames:\n",
    "        print(os.path.join(dirname, filename))\n",
    "\n",
    "# You can write up to 20GB to the current directory (/kaggle/working/) that gets preserved as output when you create a version using \"Save & Run All\" \n",
    "# You can also write temporary files to /kaggle/temp/, but they won't be saved outside of the current session"
   ]
  },
  {
   "cell_type": "code",
   "execution_count": 1,
   "metadata": {
    "execution": {
     "iopub.execute_input": "2025-03-03T17:49:39.073299Z",
     "iopub.status.busy": "2025-03-03T17:49:39.072989Z",
     "iopub.status.idle": "2025-03-03T17:49:43.500407Z",
     "shell.execute_reply": "2025-03-03T17:49:43.499489Z",
     "shell.execute_reply.started": "2025-03-03T17:49:39.073276Z"
    }
   },
   "outputs": [],
   "source": [
    "!pip install -q monai"
   ]
  },
  {
   "cell_type": "code",
   "execution_count": 2,
   "metadata": {
    "execution": {
     "iopub.execute_input": "2025-03-03T17:49:43.502170Z",
     "iopub.status.busy": "2025-03-03T17:49:43.501865Z",
     "iopub.status.idle": "2025-03-03T17:49:52.436016Z",
     "shell.execute_reply": "2025-03-03T17:49:52.435068Z",
     "shell.execute_reply.started": "2025-03-03T17:49:43.502144Z"
    }
   },
   "outputs": [
    {
     "name": "stdout",
     "output_type": "stream",
     "text": [
      "Using device: cuda\n"
     ]
    }
   ],
   "source": [
    "import os\n",
    "import sys\n",
    "import time\n",
    "import glob\n",
    "import numpy as np\n",
    "import matplotlib.pyplot as plt\n",
    "from tqdm import tqdm\n",
    "\n",
    "import torch\n",
    "import torch.nn as nn\n",
    "import torch.optim as optim\n",
    "from torch.cuda.amp import autocast, GradScaler\n",
    "from torch.utils.data import DataLoader\n",
    "\n",
    "import monai\n",
    "from monai.data import Dataset, CacheDataset, list_data_collate, decollate_batch\n",
    "from monai.transforms import (\n",
    "    Compose,\n",
    "    LoadImaged,\n",
    "    EnsureChannelFirstd,\n",
    "    ScaleIntensityd,\n",
    "    RandCropByPosNegLabeld,\n",
    "    RandRotate90d,\n",
    "    RandShiftIntensityd,\n",
    "    ToTensord,\n",
    "    CropForegroundd,\n",
    "    ResizeWithPadOrCropd,\n",
    "    Spacingd,\n",
    "    RandFlipd,\n",
    "    RandScaleIntensityd,\n",
    "    RandAffined,\n",
    "    Rand3DElasticd,\n",
    "    RandGaussianNoised,\n",
    "    RandAdjustContrastd,\n",
    "    Activations,\n",
    "    AsDiscrete,\n",
    "    SqueezeDimd,\n",
    "    ToNumpyd\n",
    ")\n",
    "from monai.networks.nets import UNet, SegResNet\n",
    "from monai.metrics import DiceMetric\n",
    "from monai.losses import DiceLoss\n",
    "from monai.inferers import sliding_window_inference\n",
    "from monai.visualize import plot_2d_or_3d_image\n",
    "from monai.utils import set_determinism\n",
    "from monai.networks.utils import one_hot\n",
    "from monai.config import print_config\n",
    "\n",
    "\n",
    "# Set deterministic training for reproducibility\n",
    "set_determinism(seed=42)\n",
    "\n",
    "# Define paths\n",
    "data_dir = \"/kaggle/input/mri-segmentation/MRI_dataset\"  # Update with your data path\n",
    "train_output_dir = \"/kaggle/working/\"\n",
    "os.makedirs(train_output_dir, exist_ok=True)\n",
    "\n",
    "# Define device\n",
    "device = torch.device(\"cuda\" if torch.cuda.is_available() else \"cpu\")\n",
    "print(f\"Using device: {device}\""
   ]
  },
  {
   "cell_type": "code",
   "execution_count": 3,
   "metadata": {
    "execution": {
     "iopub.execute_input": "2025-03-03T17:49:52.438558Z",
     "iopub.status.busy": "2025-03-03T17:49:52.437855Z",
     "iopub.status.idle": "2025-03-03T17:49:52.444099Z",
     "shell.execute_reply": "2025-03-03T17:49:52.443036Z",
     "shell.execute_reply.started": "2025-03-03T17:49:52.438529Z"
    }
   },
   "outputs": [],
   "source": [
    "# Define data loaders\n",
    "def get_data_dicts(data_dir):\n",
    "    \"\"\"Create data dictionaries with paths to images and labels\"\"\"\n",
    "    train_files = []\n",
    "    val_files = []\n",
    "    \n",
    "    # Assuming your data is organized as:\n",
    "    # data_dir/\n",
    "    #   - raw_images/\n",
    "    #       - img1.nii.gz\n",
    "    #       - img2.nii.gz\n",
    "    #       ...\n",
    "    #   - labels/\n",
    "    #       - img1_label.nii.gz\n",
    "    #       - img2_label.nii.gz\n",
    "    #       ...\n",
    "    \n",
    "    # Get image and label file paths\n",
    "    all_images = sorted(glob.glob(os.path.join(data_dir, \"imagesTr\", \"*.nii\")))\n",
    "    all_labels = sorted(glob.glob(os.path.join(data_dir, \"labelsTr\", \"*.nii\")))\n",
    "    \n",
    "    # Split into training (80%) and validation (20%)\n",
    "    num_total = len(all_images)\n",
    "    num_train = int(num_total * 0.8)\n",
    "    \n",
    "    # Create dictionaries for training data\n",
    "    for img_path, label_path in zip(all_images[:num_train], all_labels[:num_train]):\n",
    "        train_files.append({\n",
    "            \"image\": img_path,\n",
    "            \"label\": label_path\n",
    "        })\n",
    "    \n",
    "    # Create dictionaries for validation data\n",
    "    for img_path, label_path in zip(all_images[num_train:], all_labels[num_train:]):\n",
    "        val_files.append({\n",
    "            \"image\": img_path,\n",
    "            \"label\": label_path\n",
    "        })\n",
    "    \n",
    "    print(f\"Training samples: {len(train_files)}, Validation samples: {len(val_files)}\")\n",
    "    return train_files, val_files"
   ]
  },
  {
   "cell_type": "code",
   "execution_count": 4,
   "metadata": {
    "execution": {
     "iopub.execute_input": "2025-03-03T17:49:52.445162Z",
     "iopub.status.busy": "2025-03-03T17:49:52.444959Z",
     "iopub.status.idle": "2025-03-03T17:49:52.464572Z",
     "shell.execute_reply": "2025-03-03T17:49:52.463764Z",
     "shell.execute_reply.started": "2025-03-03T17:49:52.445144Z"
    }
   },
   "outputs": [],
   "source": [
    "# Define transforms\n",
    "def get_transforms():\n",
    "    \"\"\"Define preprocessing and augmentation transforms\"\"\"\n",
    "    # Training transforms\n",
    "    train_transforms = Compose([\n",
    "        LoadImaged(keys=[\"image\", \"label\"]),\n",
    "        EnsureChannelFirstd(keys=[\"image\", \"label\"]),  # Ensure channel first for both\n",
    "        Spacingd(keys=[\"image\", \"label\"], pixdim=(1.0, 1.0, 1.0), mode=(\"bilinear\", \"nearest\")),\n",
    "        CropForegroundd(keys=[\"image\", \"label\"], source_key=\"image\"),\n",
    "        ScaleIntensityd(keys=[\"image\"]),  # Scale intensity for the RAW image\n",
    "        RandCropByPosNegLabeld(\n",
    "            keys=[\"image\", \"label\"],\n",
    "            label_key=\"label\",\n",
    "            spatial_size=(96, 96, 96),\n",
    "            pos=1,\n",
    "            neg=1,\n",
    "            num_samples=4,\n",
    "        ),\n",
    "        RandFlipd(keys=[\"image\", \"label\"], prob=0.5, spatial_axis=0),\n",
    "        RandFlipd(keys=[\"image\", \"label\"], prob=0.5, spatial_axis=1),\n",
    "        RandFlipd(keys=[\"image\", \"label\"], prob=0.5, spatial_axis=2),\n",
    "        RandScaleIntensityd(keys=[\"image\"], factors=0.1, prob=0.5),\n",
    "        RandShiftIntensityd(keys=[\"image\"], offsets=0.1, prob=0.5),\n",
    "        RandAffined(\n",
    "            keys=[\"image\", \"label\"],\n",
    "            prob=0.5,\n",
    "            rotate_range=(0.05, 0.05, 0.05),\n",
    "            scale_range=(0.1, 0.1, 0.1),\n",
    "            mode=(\"bilinear\", \"nearest\"),\n",
    "        ),\n",
    "        Rand3DElasticd(\n",
    "        keys=[\"image\", \"label\"],\n",
    "        prob=0.3,\n",
    "        sigma_range=(5, 8),\n",
    "        magnitude_range=(50, 100),\n",
    "        mode=(\"bilinear\", \"nearest\"),\n",
    "        ),\n",
    "        RandAdjustContrastd(keys=[\"image\"], prob=0.3, gamma=(0.7, 1.5)),\n",
    "        RandGaussianNoised(keys=[\"image\"], prob=0.3, mean=0, std=0.05),\n",
    "        ToTensord(keys=[\"image\", \"label\"]),\n",
    "    ])\n",
    "    \n",
    "    # Validation transforms (no augmentation)\n",
    "    reg_size = (197, 233, 189)\n",
    "    val_transforms = Compose([\n",
    "        LoadImaged(keys=[\"image\", \"label\"]),\n",
    "        EnsureChannelFirstd(keys=[\"image\", \"label\"]),\n",
    "        Spacingd(keys=[\"image\", \"label\"], pixdim=(1.0, 1.0, 1.0), mode=(\"bilinear\", \"nearest\")),\n",
    "        CropForegroundd(keys=[\"image\", \"label\"], source_key=\"image\"),\n",
    "        ResizeWithPadOrCropd(keys=[\"image\", \"label\"], spatial_size=reg_size),\n",
    "        ScaleIntensityd(keys=[\"image\"]),\n",
    "        ToTensord(keys=[\"image\", \"label\"]),\n",
    "    ])\n",
    "    \n",
    "    return train_transforms, val_transforms"
   ]
  },
  {
   "cell_type": "code",
   "execution_count": 5,
   "metadata": {
    "execution": {
     "iopub.execute_input": "2025-03-03T17:49:52.465884Z",
     "iopub.status.busy": "2025-03-03T17:49:52.465541Z",
     "iopub.status.idle": "2025-03-03T17:49:52.482349Z",
     "shell.execute_reply": "2025-03-03T17:49:52.481549Z",
     "shell.execute_reply.started": "2025-03-03T17:49:52.465839Z"
    }
   },
   "outputs": [],
   "source": [
    "# Create datasets and dataloaders\n",
    "def get_dataloaders(train_files, val_files, train_transforms, val_transforms, cache=False):\n",
    "    \"\"\"Create training and validation dataloaders\"\"\"\n",
    "    # Create datasets\n",
    "    if cache:\n",
    "        train_ds = CacheDataset(data=train_files, transform=train_transforms, cache_rate=1.0)\n",
    "        val_ds = CacheDataset(data=val_files, transform=val_transforms, cache_rate=1.0)\n",
    "    else:\n",
    "        train_ds = Dataset(data=train_files, transform=train_transforms)\n",
    "        val_ds = Dataset(data=val_files, transform=val_transforms)\n",
    "    \n",
    "    # Create dataloaders\n",
    "    train_loader = DataLoader(\n",
    "        train_ds,\n",
    "        batch_size=1,\n",
    "        shuffle=True,\n",
    "        num_workers=4,\n",
    "        pin_memory=torch.cuda.is_available(),\n",
    "        collate_fn=list_data_collate\n",
    "    )\n",
    "    \n",
    "    val_loader = DataLoader(\n",
    "        val_ds,\n",
    "        batch_size=4,\n",
    "        shuffle=False,\n",
    "        num_workers=4,\n",
    "        pin_memory=torch.cuda.is_available(),\n",
    "        collate_fn=list_data_collate\n",
    "    )\n",
    "    \n",
    "    return train_loader, val_loader"
   ]
  },
  {
   "cell_type": "code",
   "execution_count": 6,
   "metadata": {
    "execution": {
     "iopub.execute_input": "2025-03-03T17:49:52.483505Z",
     "iopub.status.busy": "2025-03-03T17:49:52.483209Z",
     "iopub.status.idle": "2025-03-03T17:49:52.505093Z",
     "shell.execute_reply": "2025-03-03T17:49:52.504040Z",
     "shell.execute_reply.started": "2025-03-03T17:49:52.483475Z"
    }
   },
   "outputs": [],
   "source": [
    "# Model definition\n",
    "def get_model():\n",
    "    \"\"\"Create a SegResNet model with 1 input channel (RAW) and 3 output channels (CSF, GM, WM)\"\"\"\n",
    "    model = SegResNet(\n",
    "        blocks_down=[1, 2, 2, 4],\n",
    "        blocks_up=[1, 1, 1],\n",
    "        init_filters=16,\n",
    "        in_channels=1,  # 1 channel for RAW MRI input\n",
    "        out_channels=4,  # 4 channels for background, CSF, GM, WM\n",
    "        dropout_prob=0.2,\n",
    "    )\n",
    "    \n",
    "    return model"
   ]
  },
  {
   "cell_type": "code",
   "execution_count": 7,
   "metadata": {
    "execution": {
     "iopub.execute_input": "2025-03-03T17:49:53.700295Z",
     "iopub.status.busy": "2025-03-03T17:49:53.699937Z",
     "iopub.status.idle": "2025-03-03T17:49:53.719200Z",
     "shell.execute_reply": "2025-03-03T17:49:53.718094Z",
     "shell.execute_reply.started": "2025-03-03T17:49:53.700265Z"
    }
   },
   "outputs": [],
   "source": [
    "# Train function\n",
    "def train(model, train_loader, val_loader, max_epochs=300, val_interval=5):\n",
    "    \"\"\"Train the model\"\"\"\n",
    "    # Loss function and optimizer\n",
    "    loss_function = DiceLoss(to_onehot_y=True, sigmoid=True)  # No onehot needed since labels are already in channels\n",
    "    optimizer = torch.optim.Adam(model.parameters(), lr=1e-4, weight_decay=1e-5)\n",
    "    scheduler = torch.optim.lr_scheduler.CosineAnnealingLR(optimizer, T_max=max_epochs)\n",
    "    \n",
    "    # Dice metric for validation\n",
    "    dice_metric = DiceMetric(include_background=False, reduction=\"mean\", get_not_nans=False)\n",
    "    \n",
    "    # Best metric tracking\n",
    "    best_metric = -1\n",
    "    best_metric_epoch = -1\n",
    "    \n",
    "    # Initialize lists for plotting metrics\n",
    "    epoch_loss_values = []\n",
    "    metric_values = []\n",
    "    lr_values = []\n",
    "    \n",
    "    # Training loop\n",
    "    for epoch in range(max_epochs):\n",
    "        print(f\"\\nEpoch {epoch + 1}/{max_epochs}\")\n",
    "        model.train()\n",
    "        epoch_loss = 0\n",
    "        step = 0\n",
    "        \n",
    "        # Training steps\n",
    "        train_bar = tqdm(train_loader)\n",
    "        for batch_data in train_bar:\n",
    "            step += 1\n",
    "            inputs, labels = batch_data[\"image\"].to(device), batch_data[\"label\"].to(device)\n",
    "            \n",
    "            #num_classes = 3 # (CSF, GM, WM)\n",
    "            #labels = one_hot(labels, num_classes).to(device)\n",
    "            \n",
    "            optimizer.zero_grad()\n",
    "            outputs = model(inputs)\n",
    "            loss = loss_function(outputs, labels)\n",
    "            \n",
    "            loss.backward()\n",
    "            optimizer.step()\n",
    "            \n",
    "            epoch_loss += loss.item()\n",
    "            train_bar.set_description(f\"Train loss: {loss.item():.4f}\")\n",
    "        \n",
    "        # Update learning rate\n",
    "        scheduler.step()\n",
    "        lr_values.append(scheduler.get_last_lr()[0])\n",
    "        \n",
    "        # Calculate average loss for the epoch\n",
    "        epoch_loss /= step\n",
    "        epoch_loss_values.append(epoch_loss)\n",
    "        print(f\"Epoch {epoch + 1} average loss: {epoch_loss:.4f}\")\n",
    "        \n",
    "        # Validation\n",
    "        if (epoch + 1) % val_interval == 0:\n",
    "            model.eval()\n",
    "            with torch.no_grad():\n",
    "                val_loss = 0\n",
    "                val_steps = 0\n",
    "                for val_data in tqdm(val_loader, desc=\"Validation\"):\n",
    "                    val_inputs, val_labels = val_data[\"image\"].to(device), val_data[\"label\"].to(device)\n",
    "            \n",
    "                    #num_classes = 3 # (CSF, GM, WM)\n",
    "                    #val_labels = one_hot(val_labels, num_classes).to(device)\n",
    "                    \n",
    "                    # Sliding window inference for larger volumes\n",
    "                    roi_size = (96, 96, 96)\n",
    "                    sw_batch_size = 4\n",
    "\n",
    "                    val_outputs = sliding_window_inference(val_inputs, roi_size, sw_batch_size, model)\n",
    "                    \n",
    "                    # Calculate validation loss\n",
    "                    val_loss += loss_function(val_outputs, val_labels).item()\n",
    "                    \n",
    "                    val_steps += 1\n",
    "                    \n",
    "                    # Calculate Dice score\n",
    "                    val_outputs_list = decollate_batch(val_outputs)\n",
    "                    val_labels_list = decollate_batch(val_labels)\n",
    "                    val_outputs_convert = [Activations(sigmoid=True)(i) for i in val_outputs_list]\n",
    "                    val_outputs_convert = [AsDiscrete(threshold=0.5)(i) for i in val_outputs_convert]\n",
    "                    dice_metric(y_pred=val_outputs_convert, y=val_labels_list)\n",
    "                    \n",
    "                    # Plot images for visualization\n",
    "                    if epoch + 1 == max_epochs and val_steps == 1:\n",
    "                        # Input image (middle slice)\n",
    "                        middle_slice = val_inputs.shape[4] // 2\n",
    "                        plt.figure(\"Visualization\", (18, 6))\n",
    "                        plt.subplot(1, 5, 1)\n",
    "                        plt.title(\"Input MRI\")\n",
    "                        plt.imshow(val_inputs[0, 0, :, :, middle_slice].cpu().numpy(), cmap=\"gray\")\n",
    "                        \n",
    "                        # Ground truth labels (CSF, GM, WM)\n",
    "                        plt.subplot(1, 5, 2)\n",
    "                        plt.title(\"CSF (Ground Truth)\")\n",
    "                        plt.imshow(val_labels[0, 0, :, :, middle_slice].cpu().numpy(), cmap=\"jet\")\n",
    "                        \n",
    "                        plt.subplot(1, 5, 3)\n",
    "                        plt.title(\"GM (Ground Truth)\")\n",
    "                        plt.imshow(val_labels[0, 1, :, :, middle_slice].cpu().numpy(), cmap=\"jet\")\n",
    "                        \n",
    "                        plt.subplot(1, 5, 4)\n",
    "                        plt.title(\"WM (Ground Truth)\")\n",
    "                        plt.imshow(val_labels[0, 2, :, :, middle_slice].cpu().numpy(), cmap=\"jet\")\n",
    "                        \n",
    "                        # Predicted segmentation (overlay)\n",
    "                        pred = torch.zeros_like(val_inputs[0, 0])\n",
    "                        for c in range(3):\n",
    "                            pred[val_outputs[0, c] > 0.5] = c + 1\n",
    "                        \n",
    "                        plt.subplot(1, 5, 5)\n",
    "                        plt.title(\"Prediction (RGB)\")\n",
    "                        plt.imshow(pred[:, :, middle_slice].cpu().numpy(), cmap=\"viridis\")\n",
    "                        \n",
    "                        plt.tight_layout()\n",
    "                        plt.savefig(os.path.join(train_output_dir, f\"visualization_epoch_{epoch+1}.png\"))\n",
    "                        plt.close()\n",
    "                \n",
    "                # Calculate average validation loss and Dice scores\n",
    "                avg_val_loss = val_loss / val_steps\n",
    "                metric = dice_metric.aggregate().item()\n",
    "                dice_metric.reset()\n",
    "                \n",
    "                metric_values.append(metric)\n",
    "                \n",
    "                # Log validation metrics\n",
    "                print(f\"Validation loss: {avg_val_loss:.4f}, Dice score: {metric:.4f}\")\n",
    "                \n",
    "                # Save best model\n",
    "                if metric > best_metric:\n",
    "                    best_metric = metric\n",
    "                    best_metric_epoch = epoch + 1\n",
    "                    torch.save(model.state_dict(), os.path.join(train_output_dir, \"best_model.pth\"))\n",
    "                    print(f\"Saved new best model (Dice: {best_metric:.4f})\")\n",
    "    \n",
    "    # Print best metric\n",
    "    print(f\"\\nTraining completed. Best Dice: {best_metric:.4f} at epoch {best_metric_epoch}\")\n",
    "    \n",
    "    # Plot training curves\n",
    "    plt.figure(\"Train\", (12, 6))\n",
    "    plt.subplot(1, 2, 1)\n",
    "    plt.title(\"Dice Loss\")\n",
    "    x = [i + 1 for i in range(len(epoch_loss_values))]\n",
    "    y = epoch_loss_values\n",
    "    plt.xlabel(\"Epoch\")\n",
    "    plt.plot(x, y, label=\"Training Loss\")\n",
    "    plt.subplot(1, 2, 2)\n",
    "    plt.title(\"Mean Dice Score\")\n",
    "    val_epochs = [val_interval * (i + 1) for i in range(len(metric_values))]\n",
    "    plt.xlabel(\"Epoch\")\n",
    "    plt.plot(val_epochs, metric_values, label=\"Validation Dice\")\n",
    "    plt.legend()\n",
    "    plt.savefig(os.path.join(train_output_dir, \"training_curves.png\"))\n",
    "    \n",
    "    # Plot learning rate\n",
    "    plt.figure(\"Learning Rate\", (6, 6))\n",
    "    plt.title(\"Learning Rate Curve\")\n",
    "    plt.xlabel(\"Epoch\")\n",
    "    plt.ylabel(\"Learning Rate\")\n",
    "    plt.plot(x, lr_values)\n",
    "    plt.savefig(os.path.join(train_output_dir, \"learning_rate.png\"))\n",
    "    \n",
    "    return model, best_metric, best_metric_epoch"
   ]
  },
  {
   "cell_type": "code",
   "execution_count": 8,
   "metadata": {
    "execution": {
     "iopub.execute_input": "2025-03-03T17:49:58.105330Z",
     "iopub.status.busy": "2025-03-03T17:49:58.105021Z",
     "iopub.status.idle": "2025-03-03T17:49:58.113263Z",
     "shell.execute_reply": "2025-03-03T17:49:58.112237Z",
     "shell.execute_reply.started": "2025-03-03T17:49:58.105309Z"
    }
   },
   "outputs": [],
   "source": [
    "# Function to visualize class-wise Dice scores\n",
    "def visualize_class_dice(model, val_loader, class_names=[\"CSF\", \"GM\", \"WM\"]):\n",
    "    \"\"\"Visualize class-wise Dice scores\"\"\"\n",
    "    model.eval()\n",
    "    \n",
    "    # Initialize class-wise Dice metrics\n",
    "    dice_metrics = {class_name: DiceMetric(include_background=False, reduction=\"mean\") \n",
    "                    for class_name in class_names}\n",
    "    \n",
    "    with torch.no_grad():\n",
    "        for val_data in tqdm(val_loader, desc=\"Evaluating class-wise performance\"):\n",
    "            val_inputs, val_labels = val_data[\"image\"].to(device), val_data[\"label\"].to(device)\n",
    "                \n",
    "            # Sliding window inference\n",
    "            roi_size = (96, 96, 96)\n",
    "            sw_batch_size = 4\n",
    "\n",
    "            val_outputs = sliding_window_inference(val_inputs, roi_size, sw_batch_size, model)\n",
    "            \n",
    "            # Process predictions\n",
    "            val_outputs_list = decollate_batch(val_outputs)\n",
    "            val_labels_list = decollate_batch(val_labels)\n",
    "            val_outputs_convert = [Activations(sigmoid=True)(i) for i in val_outputs_list]\n",
    "            val_outputs_convert = [AsDiscrete(threshold=0.5)(i) for i in val_outputs_convert]\n",
    "            \n",
    "            # Calculate class-wise Dice scores\n",
    "            for c, class_name in enumerate(class_names):\n",
    "                # Extract single class channel for both prediction and ground truth\n",
    "                class_outputs = [x[:, c:c+1] for x in val_outputs_convert]\n",
    "                class_labels = [x[:, c:c+1] for x in val_labels_list]\n",
    "                dice_metrics[class_name](y_pred=class_outputs, y=class_labels)\n",
    "    \n",
    "    # Aggregate and plot class-wise dice scores\n",
    "    class_dice_scores = [dice_metrics[class_name].aggregate().item() for class_name in class_names]\n",
    "    \n",
    "    plt.figure(\"Class-wise Dice Scores\", (10, 6))\n",
    "    plt.bar(class_names, class_dice_scores)\n",
    "    plt.title(\"Dice Score by Brain Structure\")\n",
    "    plt.xlabel(\"Structure\")\n",
    "    plt.ylabel(\"Dice Score\")\n",
    "    for i, v in enumerate(class_dice_scores):\n",
    "        plt.text(i, v + 0.01, f\"{v:.3f}\", ha='center')\n",
    "    plt.ylim(0, 1.0)\n",
    "    plt.tight_layout()\n",
    "    plt.savefig(os.path.join(train_output_dir, \"class_dice_scores.png\"))\n",
    "    \n",
    "    return class_dice_scores"
   ]
  },
  {
   "cell_type": "code",
   "execution_count": null,
   "metadata": {
    "execution": {
     "execution_failed": "2025-03-04T00:28:02.292Z",
     "iopub.execute_input": "2025-03-03T17:50:01.693979Z",
     "iopub.status.busy": "2025-03-03T17:50:01.693643Z"
    }
   },
   "outputs": [
    {
     "name": "stderr",
     "output_type": "stream",
     "text": [
      "/usr/local/lib/python3.10/dist-packages/monai/utils/deprecate_utils.py:321: FutureWarning: monai.transforms.croppad.dictionary CropForegroundd.__init__:allow_smaller: Current default value of argument `allow_smaller=True` has been deprecated since version 1.2. It will be changed to `allow_smaller=False` in version 1.5.\n",
      "  warn_deprecated(argname, msg, warning_category)\n"
     ]
    },
    {
     "name": "stdout",
     "output_type": "stream",
     "text": [
      "Training samples: 108, Validation samples: 27\n"
     ]
    },
    {
     "name": "stderr",
     "output_type": "stream",
     "text": [
      "Loading dataset: 100%|██████████| 108/108 [00:19<00:00,  5.67it/s]\n",
      "Loading dataset: 100%|██████████| 27/27 [00:06<00:00,  4.11it/s]\n"
     ]
    },
    {
     "name": "stdout",
     "output_type": "stream",
     "text": [
      "\n",
      "Epoch 1/200\n"
     ]
    },
    {
     "name": "stderr",
     "output_type": "stream",
     "text": [
      "Train loss: 0.6132: 100%|██████████| 108/108 [02:04<00:00,  1.15s/it]\n"
     ]
    },
    {
     "name": "stdout",
     "output_type": "stream",
     "text": [
      "Epoch 1 average loss: 0.6121\n",
      "\n",
      "Epoch 2/200\n"
     ]
    },
    {
     "name": "stderr",
     "output_type": "stream",
     "text": [
      "Train loss: 0.5590: 100%|██████████| 108/108 [02:03<00:00,  1.15s/it]\n"
     ]
    },
    {
     "name": "stdout",
     "output_type": "stream",
     "text": [
      "Epoch 2 average loss: 0.5775\n",
      "\n",
      "Epoch 3/200\n"
     ]
    },
    {
     "name": "stderr",
     "output_type": "stream",
     "text": [
      "Train loss: 0.5439: 100%|██████████| 108/108 [02:03<00:00,  1.15s/it]\n"
     ]
    },
    {
     "name": "stdout",
     "output_type": "stream",
     "text": [
      "Epoch 3 average loss: 0.5591\n",
      "\n",
      "Epoch 4/200\n"
     ]
    },
    {
     "name": "stderr",
     "output_type": "stream",
     "text": [
      "Train loss: 0.5228: 100%|██████████| 108/108 [02:04<00:00,  1.15s/it]\n"
     ]
    },
    {
     "name": "stdout",
     "output_type": "stream",
     "text": [
      "Epoch 4 average loss: 0.5471\n",
      "\n",
      "Epoch 5/200\n"
     ]
    },
    {
     "name": "stderr",
     "output_type": "stream",
     "text": [
      "Train loss: 0.5328: 100%|██████████| 108/108 [02:04<00:00,  1.15s/it]\n"
     ]
    },
    {
     "name": "stdout",
     "output_type": "stream",
     "text": [
      "Epoch 5 average loss: 0.5341\n",
      "\n",
      "Epoch 6/200\n"
     ]
    },
    {
     "name": "stderr",
     "output_type": "stream",
     "text": [
      "Train loss: 0.4977: 100%|██████████| 108/108 [02:04<00:00,  1.16s/it]\n"
     ]
    },
    {
     "name": "stdout",
     "output_type": "stream",
     "text": [
      "Epoch 6 average loss: 0.5229\n",
      "\n",
      "Epoch 7/200\n"
     ]
    },
    {
     "name": "stderr",
     "output_type": "stream",
     "text": [
      "Train loss: 0.4898: 100%|██████████| 108/108 [02:04<00:00,  1.15s/it]\n"
     ]
    },
    {
     "name": "stdout",
     "output_type": "stream",
     "text": [
      "Epoch 7 average loss: 0.5113\n",
      "\n",
      "Epoch 8/200\n"
     ]
    },
    {
     "name": "stderr",
     "output_type": "stream",
     "text": [
      "Train loss: 0.4978: 100%|██████████| 108/108 [02:04<00:00,  1.15s/it]\n"
     ]
    },
    {
     "name": "stdout",
     "output_type": "stream",
     "text": [
      "Epoch 8 average loss: 0.4984\n",
      "\n",
      "Epoch 9/200\n"
     ]
    },
    {
     "name": "stderr",
     "output_type": "stream",
     "text": [
      "Train loss: 0.6744: 100%|██████████| 108/108 [02:04<00:00,  1.16s/it]\n"
     ]
    },
    {
     "name": "stdout",
     "output_type": "stream",
     "text": [
      "Epoch 9 average loss: 0.4849\n",
      "\n",
      "Epoch 10/200\n"
     ]
    },
    {
     "name": "stderr",
     "output_type": "stream",
     "text": [
      "Train loss: 0.5256: 100%|██████████| 108/108 [02:04<00:00,  1.15s/it]\n"
     ]
    },
    {
     "name": "stdout",
     "output_type": "stream",
     "text": [
      "Epoch 10 average loss: 0.4709\n"
     ]
    },
    {
     "name": "stderr",
     "output_type": "stream",
     "text": [
      "Validation: 100%|██████████| 7/7 [00:31<00:00,  4.52s/it]\n"
     ]
    },
    {
     "name": "stdout",
     "output_type": "stream",
     "text": [
      "Validation loss: 0.4903, Dice score: 0.5608\n",
      "Saved new best model (Dice: 0.5608)\n",
      "\n",
      "Epoch 11/200\n"
     ]
    },
    {
     "name": "stderr",
     "output_type": "stream",
     "text": [
      "Train loss: 0.4371: 100%|██████████| 108/108 [02:03<00:00,  1.14s/it]\n"
     ]
    },
    {
     "name": "stdout",
     "output_type": "stream",
     "text": [
      "Epoch 11 average loss: 0.4611\n",
      "\n",
      "Epoch 12/200\n"
     ]
    },
    {
     "name": "stderr",
     "output_type": "stream",
     "text": [
      "Train loss: 0.4958: 100%|██████████| 108/108 [02:03<00:00,  1.14s/it]\n"
     ]
    },
    {
     "name": "stdout",
     "output_type": "stream",
     "text": [
      "Epoch 12 average loss: 0.4432\n",
      "\n",
      "Epoch 13/200\n"
     ]
    },
    {
     "name": "stderr",
     "output_type": "stream",
     "text": [
      "Train loss: 0.3832: 100%|██████████| 108/108 [02:04<00:00,  1.15s/it]\n"
     ]
    },
    {
     "name": "stdout",
     "output_type": "stream",
     "text": [
      "Epoch 13 average loss: 0.4288\n",
      "\n",
      "Epoch 14/200\n"
     ]
    },
    {
     "name": "stderr",
     "output_type": "stream",
     "text": [
      "Train loss: 0.3714: 100%|██████████| 108/108 [02:02<00:00,  1.14s/it]\n"
     ]
    },
    {
     "name": "stdout",
     "output_type": "stream",
     "text": [
      "Epoch 14 average loss: 0.4115\n",
      "\n",
      "Epoch 15/200\n"
     ]
    },
    {
     "name": "stderr",
     "output_type": "stream",
     "text": [
      "Train loss: 0.3416: 100%|██████████| 108/108 [02:06<00:00,  1.17s/it]\n"
     ]
    },
    {
     "name": "stdout",
     "output_type": "stream",
     "text": [
      "Epoch 15 average loss: 0.4039\n",
      "\n",
      "Epoch 16/200\n"
     ]
    },
    {
     "name": "stderr",
     "output_type": "stream",
     "text": [
      "Train loss: 0.3933: 100%|██████████| 108/108 [02:08<00:00,  1.19s/it]\n"
     ]
    },
    {
     "name": "stdout",
     "output_type": "stream",
     "text": [
      "Epoch 16 average loss: 0.3836\n",
      "\n",
      "Epoch 17/200\n"
     ]
    },
    {
     "name": "stderr",
     "output_type": "stream",
     "text": [
      "Train loss: 0.3691: 100%|██████████| 108/108 [02:17<00:00,  1.28s/it]\n"
     ]
    },
    {
     "name": "stdout",
     "output_type": "stream",
     "text": [
      "Epoch 17 average loss: 0.3697\n",
      "\n",
      "Epoch 18/200\n"
     ]
    },
    {
     "name": "stderr",
     "output_type": "stream",
     "text": [
      "Train loss: 0.3458: 100%|██████████| 108/108 [02:15<00:00,  1.25s/it]\n"
     ]
    },
    {
     "name": "stdout",
     "output_type": "stream",
     "text": [
      "Epoch 18 average loss: 0.3540\n",
      "\n",
      "Epoch 19/200\n"
     ]
    },
    {
     "name": "stderr",
     "output_type": "stream",
     "text": [
      "Train loss: 0.3788: 100%|██████████| 108/108 [02:11<00:00,  1.22s/it]\n"
     ]
    },
    {
     "name": "stdout",
     "output_type": "stream",
     "text": [
      "Epoch 19 average loss: 0.3370\n",
      "\n",
      "Epoch 20/200\n"
     ]
    },
    {
     "name": "stderr",
     "output_type": "stream",
     "text": [
      "Train loss: 0.3219: 100%|██████████| 108/108 [02:09<00:00,  1.20s/it]\n"
     ]
    },
    {
     "name": "stdout",
     "output_type": "stream",
     "text": [
      "Epoch 20 average loss: 0.3282\n"
     ]
    },
    {
     "name": "stderr",
     "output_type": "stream",
     "text": [
      "Validation: 100%|██████████| 7/7 [00:29<00:00,  4.25s/it]\n"
     ]
    },
    {
     "name": "stdout",
     "output_type": "stream",
     "text": [
      "Validation loss: 0.3309, Dice score: 0.8003\n",
      "Saved new best model (Dice: 0.8003)\n",
      "\n",
      "Epoch 21/200\n"
     ]
    },
    {
     "name": "stderr",
     "output_type": "stream",
     "text": [
      "Train loss: 0.2608: 100%|██████████| 108/108 [02:08<00:00,  1.19s/it]\n"
     ]
    },
    {
     "name": "stdout",
     "output_type": "stream",
     "text": [
      "Epoch 21 average loss: 0.3116\n",
      "\n",
      "Epoch 22/200\n"
     ]
    },
    {
     "name": "stderr",
     "output_type": "stream",
     "text": [
      "Train loss: 0.2476: 100%|██████████| 108/108 [02:13<00:00,  1.24s/it]\n"
     ]
    },
    {
     "name": "stdout",
     "output_type": "stream",
     "text": [
      "Epoch 22 average loss: 0.3017\n",
      "\n",
      "Epoch 23/200\n"
     ]
    },
    {
     "name": "stderr",
     "output_type": "stream",
     "text": [
      "Train loss: 0.2305: 100%|██████████| 108/108 [02:23<00:00,  1.33s/it]\n"
     ]
    },
    {
     "name": "stdout",
     "output_type": "stream",
     "text": [
      "Epoch 23 average loss: 0.2933\n",
      "\n",
      "Epoch 24/200\n"
     ]
    },
    {
     "name": "stderr",
     "output_type": "stream",
     "text": [
      "Train loss: 0.2767: 100%|██████████| 108/108 [02:21<00:00,  1.31s/it]\n"
     ]
    },
    {
     "name": "stdout",
     "output_type": "stream",
     "text": [
      "Epoch 24 average loss: 0.2819\n",
      "\n",
      "Epoch 25/200\n"
     ]
    },
    {
     "name": "stderr",
     "output_type": "stream",
     "text": [
      "Train loss: 0.2972: 100%|██████████| 108/108 [02:22<00:00,  1.32s/it]\n"
     ]
    },
    {
     "name": "stdout",
     "output_type": "stream",
     "text": [
      "Epoch 25 average loss: 0.2732\n",
      "\n",
      "Epoch 26/200\n"
     ]
    },
    {
     "name": "stderr",
     "output_type": "stream",
     "text": [
      "Train loss: 0.2069: 100%|██████████| 108/108 [02:24<00:00,  1.34s/it]\n"
     ]
    },
    {
     "name": "stdout",
     "output_type": "stream",
     "text": [
      "Epoch 26 average loss: 0.2617\n",
      "\n",
      "Epoch 27/200\n"
     ]
    },
    {
     "name": "stderr",
     "output_type": "stream",
     "text": [
      "Train loss: 0.2288: 100%|██████████| 108/108 [02:24<00:00,  1.34s/it]\n"
     ]
    },
    {
     "name": "stdout",
     "output_type": "stream",
     "text": [
      "Epoch 27 average loss: 0.2485\n",
      "\n",
      "Epoch 28/200\n"
     ]
    },
    {
     "name": "stderr",
     "output_type": "stream",
     "text": [
      "Train loss: 0.2332: 100%|██████████| 108/108 [02:23<00:00,  1.33s/it]\n"
     ]
    },
    {
     "name": "stdout",
     "output_type": "stream",
     "text": [
      "Epoch 28 average loss: 0.2495\n",
      "\n",
      "Epoch 29/200\n"
     ]
    },
    {
     "name": "stderr",
     "output_type": "stream",
     "text": [
      "Train loss: 0.2127: 100%|██████████| 108/108 [02:21<00:00,  1.31s/it]\n"
     ]
    },
    {
     "name": "stdout",
     "output_type": "stream",
     "text": [
      "Epoch 29 average loss: 0.2409\n",
      "\n",
      "Epoch 30/200\n"
     ]
    },
    {
     "name": "stderr",
     "output_type": "stream",
     "text": [
      "Train loss: 0.1771: 100%|██████████| 108/108 [02:22<00:00,  1.32s/it]\n"
     ]
    },
    {
     "name": "stdout",
     "output_type": "stream",
     "text": [
      "Epoch 30 average loss: 0.2328\n"
     ]
    },
    {
     "name": "stderr",
     "output_type": "stream",
     "text": [
      "Validation: 100%|██████████| 7/7 [00:30<00:00,  4.33s/it]\n"
     ]
    },
    {
     "name": "stdout",
     "output_type": "stream",
     "text": [
      "Validation loss: 0.2394, Dice score: 0.8109\n",
      "Saved new best model (Dice: 0.8109)\n",
      "\n",
      "Epoch 31/200\n"
     ]
    },
    {
     "name": "stderr",
     "output_type": "stream",
     "text": [
      "Train loss: 0.2621: 100%|██████████| 108/108 [02:21<00:00,  1.31s/it]\n"
     ]
    },
    {
     "name": "stdout",
     "output_type": "stream",
     "text": [
      "Epoch 31 average loss: 0.2260\n",
      "\n",
      "Epoch 32/200\n"
     ]
    },
    {
     "name": "stderr",
     "output_type": "stream",
     "text": [
      "Train loss: 0.1931: 100%|██████████| 108/108 [02:23<00:00,  1.33s/it]\n"
     ]
    },
    {
     "name": "stdout",
     "output_type": "stream",
     "text": [
      "Epoch 32 average loss: 0.2232\n",
      "\n",
      "Epoch 33/200\n"
     ]
    },
    {
     "name": "stderr",
     "output_type": "stream",
     "text": [
      "Train loss: 0.1780: 100%|██████████| 108/108 [02:22<00:00,  1.32s/it]\n"
     ]
    },
    {
     "name": "stdout",
     "output_type": "stream",
     "text": [
      "Epoch 33 average loss: 0.2144\n",
      "\n",
      "Epoch 34/200\n"
     ]
    },
    {
     "name": "stderr",
     "output_type": "stream",
     "text": [
      "Train loss: 0.1942: 100%|██████████| 108/108 [02:19<00:00,  1.29s/it]\n"
     ]
    },
    {
     "name": "stdout",
     "output_type": "stream",
     "text": [
      "Epoch 34 average loss: 0.2067\n",
      "\n",
      "Epoch 35/200\n"
     ]
    },
    {
     "name": "stderr",
     "output_type": "stream",
     "text": [
      "Train loss: 0.1626: 100%|██████████| 108/108 [02:13<00:00,  1.24s/it]\n"
     ]
    },
    {
     "name": "stdout",
     "output_type": "stream",
     "text": [
      "Epoch 35 average loss: 0.2056\n",
      "\n",
      "Epoch 36/200\n"
     ]
    },
    {
     "name": "stderr",
     "output_type": "stream",
     "text": [
      "Train loss: 0.1383: 100%|██████████| 108/108 [02:13<00:00,  1.23s/it]\n"
     ]
    },
    {
     "name": "stdout",
     "output_type": "stream",
     "text": [
      "Epoch 36 average loss: 0.2006\n",
      "\n",
      "Epoch 37/200\n"
     ]
    },
    {
     "name": "stderr",
     "output_type": "stream",
     "text": [
      "Train loss: 0.1328: 100%|██████████| 108/108 [02:12<00:00,  1.22s/it]\n"
     ]
    },
    {
     "name": "stdout",
     "output_type": "stream",
     "text": [
      "Epoch 37 average loss: 0.1949\n",
      "\n",
      "Epoch 38/200\n"
     ]
    },
    {
     "name": "stderr",
     "output_type": "stream",
     "text": [
      "Train loss: 0.1932: 100%|██████████| 108/108 [02:17<00:00,  1.27s/it]\n"
     ]
    },
    {
     "name": "stdout",
     "output_type": "stream",
     "text": [
      "Epoch 38 average loss: 0.1959\n",
      "\n",
      "Epoch 39/200\n"
     ]
    },
    {
     "name": "stderr",
     "output_type": "stream",
     "text": [
      "Train loss: 0.1338: 100%|██████████| 108/108 [02:17<00:00,  1.27s/it]\n"
     ]
    },
    {
     "name": "stdout",
     "output_type": "stream",
     "text": [
      "Epoch 39 average loss: 0.1881\n",
      "\n",
      "Epoch 40/200\n"
     ]
    },
    {
     "name": "stderr",
     "output_type": "stream",
     "text": [
      "Train loss: 0.1347: 100%|██████████| 108/108 [02:12<00:00,  1.23s/it]\n"
     ]
    },
    {
     "name": "stdout",
     "output_type": "stream",
     "text": [
      "Epoch 40 average loss: 0.1897\n"
     ]
    },
    {
     "name": "stderr",
     "output_type": "stream",
     "text": [
      "Validation: 100%|██████████| 7/7 [00:29<00:00,  4.28s/it]\n"
     ]
    },
    {
     "name": "stdout",
     "output_type": "stream",
     "text": [
      "Validation loss: 0.1842, Dice score: 0.8284\n",
      "Saved new best model (Dice: 0.8284)\n",
      "\n",
      "Epoch 41/200\n"
     ]
    },
    {
     "name": "stderr",
     "output_type": "stream",
     "text": [
      "Train loss: 0.1659: 100%|██████████| 108/108 [02:17<00:00,  1.27s/it]\n"
     ]
    },
    {
     "name": "stdout",
     "output_type": "stream",
     "text": [
      "Epoch 41 average loss: 0.1885\n",
      "\n",
      "Epoch 42/200\n"
     ]
    },
    {
     "name": "stderr",
     "output_type": "stream",
     "text": [
      "Train loss: 0.1339: 100%|██████████| 108/108 [02:22<00:00,  1.32s/it]\n"
     ]
    },
    {
     "name": "stdout",
     "output_type": "stream",
     "text": [
      "Epoch 42 average loss: 0.1885\n",
      "\n",
      "Epoch 43/200\n"
     ]
    },
    {
     "name": "stderr",
     "output_type": "stream",
     "text": [
      "Train loss: 0.1595: 100%|██████████| 108/108 [02:21<00:00,  1.31s/it]\n"
     ]
    },
    {
     "name": "stdout",
     "output_type": "stream",
     "text": [
      "Epoch 43 average loss: 0.1767\n",
      "\n",
      "Epoch 44/200\n"
     ]
    },
    {
     "name": "stderr",
     "output_type": "stream",
     "text": [
      "Train loss: 0.1554: 100%|██████████| 108/108 [02:23<00:00,  1.33s/it]\n"
     ]
    },
    {
     "name": "stdout",
     "output_type": "stream",
     "text": [
      "Epoch 44 average loss: 0.1767\n",
      "\n",
      "Epoch 45/200\n"
     ]
    },
    {
     "name": "stderr",
     "output_type": "stream",
     "text": [
      "Train loss: 0.1618: 100%|██████████| 108/108 [02:16<00:00,  1.27s/it]\n"
     ]
    },
    {
     "name": "stdout",
     "output_type": "stream",
     "text": [
      "Epoch 45 average loss: 0.1751\n",
      "\n",
      "Epoch 46/200\n"
     ]
    },
    {
     "name": "stderr",
     "output_type": "stream",
     "text": [
      "Train loss: 0.1525: 100%|██████████| 108/108 [02:17<00:00,  1.27s/it]\n"
     ]
    },
    {
     "name": "stdout",
     "output_type": "stream",
     "text": [
      "Epoch 46 average loss: 0.1685\n",
      "\n",
      "Epoch 47/200\n"
     ]
    },
    {
     "name": "stderr",
     "output_type": "stream",
     "text": [
      "Train loss: 0.1303: 100%|██████████| 108/108 [02:20<00:00,  1.30s/it]\n"
     ]
    },
    {
     "name": "stdout",
     "output_type": "stream",
     "text": [
      "Epoch 47 average loss: 0.1707\n",
      "\n",
      "Epoch 48/200\n"
     ]
    },
    {
     "name": "stderr",
     "output_type": "stream",
     "text": [
      "Train loss: 0.1173: 100%|██████████| 108/108 [02:24<00:00,  1.34s/it]\n"
     ]
    },
    {
     "name": "stdout",
     "output_type": "stream",
     "text": [
      "Epoch 48 average loss: 0.1698\n",
      "\n",
      "Epoch 49/200\n"
     ]
    },
    {
     "name": "stderr",
     "output_type": "stream",
     "text": [
      "Train loss: 0.1284: 100%|██████████| 108/108 [02:23<00:00,  1.33s/it]\n"
     ]
    },
    {
     "name": "stdout",
     "output_type": "stream",
     "text": [
      "Epoch 49 average loss: 0.1668\n",
      "\n",
      "Epoch 50/200\n"
     ]
    },
    {
     "name": "stderr",
     "output_type": "stream",
     "text": [
      "Train loss: 0.1829: 100%|██████████| 108/108 [02:20<00:00,  1.30s/it]\n"
     ]
    },
    {
     "name": "stdout",
     "output_type": "stream",
     "text": [
      "Epoch 50 average loss: 0.1614\n"
     ]
    },
    {
     "name": "stderr",
     "output_type": "stream",
     "text": [
      "Validation: 100%|██████████| 7/7 [00:30<00:00,  4.32s/it]\n"
     ]
    },
    {
     "name": "stdout",
     "output_type": "stream",
     "text": [
      "Validation loss: 0.1576, Dice score: 0.8383\n",
      "Saved new best model (Dice: 0.8383)\n",
      "\n",
      "Epoch 51/200\n"
     ]
    },
    {
     "name": "stderr",
     "output_type": "stream",
     "text": [
      "Train loss: 0.2258: 100%|██████████| 108/108 [02:20<00:00,  1.30s/it]\n"
     ]
    },
    {
     "name": "stdout",
     "output_type": "stream",
     "text": [
      "Epoch 51 average loss: 0.1591\n",
      "\n",
      "Epoch 52/200\n"
     ]
    },
    {
     "name": "stderr",
     "output_type": "stream",
     "text": [
      "Train loss: 0.2067: 100%|██████████| 108/108 [02:13<00:00,  1.24s/it]\n"
     ]
    },
    {
     "name": "stdout",
     "output_type": "stream",
     "text": [
      "Epoch 52 average loss: 0.1662\n",
      "\n",
      "Epoch 53/200\n"
     ]
    },
    {
     "name": "stderr",
     "output_type": "stream",
     "text": [
      "Train loss: 0.1490: 100%|██████████| 108/108 [02:20<00:00,  1.30s/it]\n"
     ]
    },
    {
     "name": "stdout",
     "output_type": "stream",
     "text": [
      "Epoch 53 average loss: 0.1630\n",
      "\n",
      "Epoch 54/200\n"
     ]
    },
    {
     "name": "stderr",
     "output_type": "stream",
     "text": [
      "Train loss: 0.1219: 100%|██████████| 108/108 [02:17<00:00,  1.27s/it]\n"
     ]
    },
    {
     "name": "stdout",
     "output_type": "stream",
     "text": [
      "Epoch 54 average loss: 0.1626\n",
      "\n",
      "Epoch 55/200\n"
     ]
    },
    {
     "name": "stderr",
     "output_type": "stream",
     "text": [
      "Train loss: 0.1249: 100%|██████████| 108/108 [02:16<00:00,  1.27s/it]\n"
     ]
    },
    {
     "name": "stdout",
     "output_type": "stream",
     "text": [
      "Epoch 55 average loss: 0.1569\n",
      "\n",
      "Epoch 56/200\n"
     ]
    },
    {
     "name": "stderr",
     "output_type": "stream",
     "text": [
      "Train loss: 0.0895: 100%|██████████| 108/108 [02:13<00:00,  1.24s/it]\n"
     ]
    },
    {
     "name": "stdout",
     "output_type": "stream",
     "text": [
      "Epoch 56 average loss: 0.1608\n",
      "\n",
      "Epoch 57/200\n"
     ]
    },
    {
     "name": "stderr",
     "output_type": "stream",
     "text": [
      "Train loss: 0.1233: 100%|██████████| 108/108 [02:17<00:00,  1.28s/it]\n"
     ]
    },
    {
     "name": "stdout",
     "output_type": "stream",
     "text": [
      "Epoch 57 average loss: 0.1622\n",
      "\n",
      "Epoch 58/200\n"
     ]
    },
    {
     "name": "stderr",
     "output_type": "stream",
     "text": [
      "Train loss: 0.1384: 100%|██████████| 108/108 [02:18<00:00,  1.28s/it]\n"
     ]
    },
    {
     "name": "stdout",
     "output_type": "stream",
     "text": [
      "Epoch 58 average loss: 0.1538\n",
      "\n",
      "Epoch 59/200\n"
     ]
    },
    {
     "name": "stderr",
     "output_type": "stream",
     "text": [
      "Train loss: 0.1656: 100%|██████████| 108/108 [02:14<00:00,  1.25s/it]\n"
     ]
    },
    {
     "name": "stdout",
     "output_type": "stream",
     "text": [
      "Epoch 59 average loss: 0.1519\n",
      "\n",
      "Epoch 60/200\n"
     ]
    },
    {
     "name": "stderr",
     "output_type": "stream",
     "text": [
      "Train loss: 0.0935: 100%|██████████| 108/108 [02:14<00:00,  1.24s/it]\n"
     ]
    },
    {
     "name": "stdout",
     "output_type": "stream",
     "text": [
      "Epoch 60 average loss: 0.1472\n"
     ]
    },
    {
     "name": "stderr",
     "output_type": "stream",
     "text": [
      "Validation: 100%|██████████| 7/7 [00:29<00:00,  4.28s/it]\n"
     ]
    },
    {
     "name": "stdout",
     "output_type": "stream",
     "text": [
      "Validation loss: 0.1361, Dice score: 0.8531\n",
      "Saved new best model (Dice: 0.8531)\n",
      "\n",
      "Epoch 61/200\n"
     ]
    },
    {
     "name": "stderr",
     "output_type": "stream",
     "text": [
      "Train loss: 0.1577: 100%|██████████| 108/108 [02:12<00:00,  1.23s/it]\n"
     ]
    },
    {
     "name": "stdout",
     "output_type": "stream",
     "text": [
      "Epoch 61 average loss: 0.1507\n",
      "\n",
      "Epoch 62/200\n"
     ]
    },
    {
     "name": "stderr",
     "output_type": "stream",
     "text": [
      "Train loss: 0.2764: 100%|██████████| 108/108 [02:11<00:00,  1.22s/it]\n"
     ]
    },
    {
     "name": "stdout",
     "output_type": "stream",
     "text": [
      "Epoch 62 average loss: 0.1501\n",
      "\n",
      "Epoch 63/200\n"
     ]
    },
    {
     "name": "stderr",
     "output_type": "stream",
     "text": [
      "Train loss: 0.0901: 100%|██████████| 108/108 [02:13<00:00,  1.24s/it]\n"
     ]
    },
    {
     "name": "stdout",
     "output_type": "stream",
     "text": [
      "Epoch 63 average loss: 0.1468\n",
      "\n",
      "Epoch 64/200\n"
     ]
    },
    {
     "name": "stderr",
     "output_type": "stream",
     "text": [
      "Train loss: 0.0961: 100%|██████████| 108/108 [02:18<00:00,  1.28s/it]\n"
     ]
    },
    {
     "name": "stdout",
     "output_type": "stream",
     "text": [
      "Epoch 64 average loss: 0.1503\n",
      "\n",
      "Epoch 65/200\n"
     ]
    },
    {
     "name": "stderr",
     "output_type": "stream",
     "text": [
      "Train loss: 0.1212: 100%|██████████| 108/108 [02:16<00:00,  1.27s/it]\n"
     ]
    },
    {
     "name": "stdout",
     "output_type": "stream",
     "text": [
      "Epoch 65 average loss: 0.1481\n",
      "\n",
      "Epoch 66/200\n"
     ]
    },
    {
     "name": "stderr",
     "output_type": "stream",
     "text": [
      "Train loss: 0.1519: 100%|██████████| 108/108 [02:13<00:00,  1.24s/it]\n"
     ]
    },
    {
     "name": "stdout",
     "output_type": "stream",
     "text": [
      "Epoch 66 average loss: 0.1479\n",
      "\n",
      "Epoch 67/200\n"
     ]
    },
    {
     "name": "stderr",
     "output_type": "stream",
     "text": [
      "Train loss: 0.1573: 100%|██████████| 108/108 [02:16<00:00,  1.26s/it]\n"
     ]
    },
    {
     "name": "stdout",
     "output_type": "stream",
     "text": [
      "Epoch 67 average loss: 0.1483\n",
      "\n",
      "Epoch 68/200\n"
     ]
    },
    {
     "name": "stderr",
     "output_type": "stream",
     "text": [
      "Train loss: 0.1341: 100%|██████████| 108/108 [02:15<00:00,  1.25s/it]\n"
     ]
    },
    {
     "name": "stdout",
     "output_type": "stream",
     "text": [
      "Epoch 68 average loss: 0.1440\n",
      "\n",
      "Epoch 69/200\n"
     ]
    },
    {
     "name": "stderr",
     "output_type": "stream",
     "text": [
      "Train loss: 0.0915: 100%|██████████| 108/108 [02:20<00:00,  1.30s/it]\n"
     ]
    },
    {
     "name": "stdout",
     "output_type": "stream",
     "text": [
      "Epoch 69 average loss: 0.1436\n",
      "\n",
      "Epoch 70/200\n"
     ]
    },
    {
     "name": "stderr",
     "output_type": "stream",
     "text": [
      "Train loss: 0.1577: 100%|██████████| 108/108 [02:23<00:00,  1.33s/it]\n"
     ]
    },
    {
     "name": "stdout",
     "output_type": "stream",
     "text": [
      "Epoch 70 average loss: 0.1418\n"
     ]
    },
    {
     "name": "stderr",
     "output_type": "stream",
     "text": [
      "Validation: 100%|██████████| 7/7 [00:29<00:00,  4.28s/it]\n"
     ]
    },
    {
     "name": "stdout",
     "output_type": "stream",
     "text": [
      "Validation loss: 0.1525, Dice score: 0.8222\n",
      "\n",
      "Epoch 71/200\n"
     ]
    },
    {
     "name": "stderr",
     "output_type": "stream",
     "text": [
      "Train loss: 0.1230: 100%|██████████| 108/108 [02:20<00:00,  1.30s/it]\n"
     ]
    },
    {
     "name": "stdout",
     "output_type": "stream",
     "text": [
      "Epoch 71 average loss: 0.1486\n",
      "\n",
      "Epoch 72/200\n"
     ]
    },
    {
     "name": "stderr",
     "output_type": "stream",
     "text": [
      "Train loss: 0.1408: 100%|██████████| 108/108 [02:16<00:00,  1.26s/it]\n"
     ]
    },
    {
     "name": "stdout",
     "output_type": "stream",
     "text": [
      "Epoch 72 average loss: 0.1441\n",
      "\n",
      "Epoch 73/200\n"
     ]
    },
    {
     "name": "stderr",
     "output_type": "stream",
     "text": [
      "Train loss: 0.1058: 100%|██████████| 108/108 [02:16<00:00,  1.26s/it]\n"
     ]
    },
    {
     "name": "stdout",
     "output_type": "stream",
     "text": [
      "Epoch 73 average loss: 0.1457\n",
      "\n",
      "Epoch 74/200\n"
     ]
    },
    {
     "name": "stderr",
     "output_type": "stream",
     "text": [
      "Train loss: 0.1691: 100%|██████████| 108/108 [02:18<00:00,  1.28s/it]\n"
     ]
    },
    {
     "name": "stdout",
     "output_type": "stream",
     "text": [
      "Epoch 74 average loss: 0.1390\n",
      "\n",
      "Epoch 75/200\n"
     ]
    },
    {
     "name": "stderr",
     "output_type": "stream",
     "text": [
      "Train loss: 0.1406: 100%|██████████| 108/108 [02:14<00:00,  1.25s/it]\n"
     ]
    },
    {
     "name": "stdout",
     "output_type": "stream",
     "text": [
      "Epoch 75 average loss: 0.1372\n",
      "\n",
      "Epoch 76/200\n"
     ]
    },
    {
     "name": "stderr",
     "output_type": "stream",
     "text": [
      "Train loss: 0.1066: 100%|██████████| 108/108 [02:18<00:00,  1.28s/it]\n"
     ]
    },
    {
     "name": "stdout",
     "output_type": "stream",
     "text": [
      "Epoch 76 average loss: 0.1403\n",
      "\n",
      "Epoch 77/200\n"
     ]
    },
    {
     "name": "stderr",
     "output_type": "stream",
     "text": [
      "Train loss: 0.1479: 100%|██████████| 108/108 [02:16<00:00,  1.27s/it]\n"
     ]
    },
    {
     "name": "stdout",
     "output_type": "stream",
     "text": [
      "Epoch 77 average loss: 0.1368\n",
      "\n",
      "Epoch 78/200\n"
     ]
    },
    {
     "name": "stderr",
     "output_type": "stream",
     "text": [
      "Train loss: 0.0853: 100%|██████████| 108/108 [02:12<00:00,  1.23s/it]\n"
     ]
    },
    {
     "name": "stdout",
     "output_type": "stream",
     "text": [
      "Epoch 78 average loss: 0.1426\n",
      "\n",
      "Epoch 79/200\n"
     ]
    },
    {
     "name": "stderr",
     "output_type": "stream",
     "text": [
      "Train loss: 0.0941: 100%|██████████| 108/108 [02:12<00:00,  1.23s/it]\n"
     ]
    },
    {
     "name": "stdout",
     "output_type": "stream",
     "text": [
      "Epoch 79 average loss: 0.1365\n",
      "\n",
      "Epoch 80/200\n"
     ]
    },
    {
     "name": "stderr",
     "output_type": "stream",
     "text": [
      "Train loss: 0.1052: 100%|██████████| 108/108 [02:10<00:00,  1.21s/it]\n"
     ]
    },
    {
     "name": "stdout",
     "output_type": "stream",
     "text": [
      "Epoch 80 average loss: 0.1339\n"
     ]
    },
    {
     "name": "stderr",
     "output_type": "stream",
     "text": [
      "Validation: 100%|██████████| 7/7 [00:30<00:00,  4.32s/it]\n"
     ]
    },
    {
     "name": "stdout",
     "output_type": "stream",
     "text": [
      "Validation loss: 0.1308, Dice score: 0.8466\n",
      "\n",
      "Epoch 81/200\n"
     ]
    },
    {
     "name": "stderr",
     "output_type": "stream",
     "text": [
      "Train loss: 0.0893: 100%|██████████| 108/108 [02:16<00:00,  1.26s/it]\n"
     ]
    },
    {
     "name": "stdout",
     "output_type": "stream",
     "text": [
      "Epoch 81 average loss: 0.1398\n",
      "\n",
      "Epoch 82/200\n"
     ]
    },
    {
     "name": "stderr",
     "output_type": "stream",
     "text": [
      "Train loss: 0.1231: 100%|██████████| 108/108 [02:13<00:00,  1.24s/it]\n"
     ]
    },
    {
     "name": "stdout",
     "output_type": "stream",
     "text": [
      "Epoch 82 average loss: 0.1367\n",
      "\n",
      "Epoch 83/200\n"
     ]
    },
    {
     "name": "stderr",
     "output_type": "stream",
     "text": [
      "Train loss: 0.1033: 100%|██████████| 108/108 [02:09<00:00,  1.20s/it]\n"
     ]
    },
    {
     "name": "stdout",
     "output_type": "stream",
     "text": [
      "Epoch 83 average loss: 0.1389\n",
      "\n",
      "Epoch 84/200\n"
     ]
    },
    {
     "name": "stderr",
     "output_type": "stream",
     "text": [
      "Train loss: 0.2927: 100%|██████████| 108/108 [02:10<00:00,  1.20s/it]\n"
     ]
    },
    {
     "name": "stdout",
     "output_type": "stream",
     "text": [
      "Epoch 84 average loss: 0.1374\n",
      "\n",
      "Epoch 85/200\n"
     ]
    },
    {
     "name": "stderr",
     "output_type": "stream",
     "text": [
      "Train loss: 0.0842: 100%|██████████| 108/108 [02:08<00:00,  1.19s/it]\n"
     ]
    },
    {
     "name": "stdout",
     "output_type": "stream",
     "text": [
      "Epoch 85 average loss: 0.1391\n",
      "\n",
      "Epoch 86/200\n"
     ]
    },
    {
     "name": "stderr",
     "output_type": "stream",
     "text": [
      "Train loss: 0.1578: 100%|██████████| 108/108 [02:17<00:00,  1.27s/it]\n"
     ]
    },
    {
     "name": "stdout",
     "output_type": "stream",
     "text": [
      "Epoch 86 average loss: 0.1325\n",
      "\n",
      "Epoch 87/200\n"
     ]
    },
    {
     "name": "stderr",
     "output_type": "stream",
     "text": [
      "Train loss: 0.1273: 100%|██████████| 108/108 [02:19<00:00,  1.29s/it]\n"
     ]
    },
    {
     "name": "stdout",
     "output_type": "stream",
     "text": [
      "Epoch 87 average loss: 0.1324\n",
      "\n",
      "Epoch 88/200\n"
     ]
    },
    {
     "name": "stderr",
     "output_type": "stream",
     "text": [
      "Train loss: 0.2317: 100%|██████████| 108/108 [02:23<00:00,  1.33s/it]\n"
     ]
    },
    {
     "name": "stdout",
     "output_type": "stream",
     "text": [
      "Epoch 88 average loss: 0.1334\n",
      "\n",
      "Epoch 89/200\n"
     ]
    },
    {
     "name": "stderr",
     "output_type": "stream",
     "text": [
      "Train loss: 0.1975: 100%|██████████| 108/108 [02:23<00:00,  1.32s/it]\n"
     ]
    },
    {
     "name": "stdout",
     "output_type": "stream",
     "text": [
      "Epoch 89 average loss: 0.1346\n",
      "\n",
      "Epoch 90/200\n"
     ]
    },
    {
     "name": "stderr",
     "output_type": "stream",
     "text": [
      "Train loss: 0.0943: 100%|██████████| 108/108 [02:13<00:00,  1.24s/it]\n"
     ]
    },
    {
     "name": "stdout",
     "output_type": "stream",
     "text": [
      "Epoch 90 average loss: 0.1320\n"
     ]
    },
    {
     "name": "stderr",
     "output_type": "stream",
     "text": [
      "Validation: 100%|██████████| 7/7 [00:29<00:00,  4.28s/it]\n"
     ]
    },
    {
     "name": "stdout",
     "output_type": "stream",
     "text": [
      "Validation loss: 0.1235, Dice score: 0.8537\n",
      "Saved new best model (Dice: 0.8537)\n",
      "\n",
      "Epoch 91/200\n"
     ]
    },
    {
     "name": "stderr",
     "output_type": "stream",
     "text": [
      "Train loss: 0.2710: 100%|██████████| 108/108 [02:09<00:00,  1.20s/it]\n"
     ]
    },
    {
     "name": "stdout",
     "output_type": "stream",
     "text": [
      "Epoch 91 average loss: 0.1336\n",
      "\n",
      "Epoch 92/200\n"
     ]
    },
    {
     "name": "stderr",
     "output_type": "stream",
     "text": [
      "Train loss: 0.1139: 100%|██████████| 108/108 [02:18<00:00,  1.28s/it]\n"
     ]
    },
    {
     "name": "stdout",
     "output_type": "stream",
     "text": [
      "Epoch 92 average loss: 0.1304\n",
      "\n",
      "Epoch 93/200\n"
     ]
    },
    {
     "name": "stderr",
     "output_type": "stream",
     "text": [
      "Train loss: 0.1168: 100%|██████████| 108/108 [02:16<00:00,  1.27s/it]\n"
     ]
    },
    {
     "name": "stdout",
     "output_type": "stream",
     "text": [
      "Epoch 93 average loss: 0.1294\n",
      "\n",
      "Epoch 94/200\n"
     ]
    },
    {
     "name": "stderr",
     "output_type": "stream",
     "text": [
      "Train loss: 0.1300: 100%|██████████| 108/108 [02:21<00:00,  1.31s/it]\n"
     ]
    },
    {
     "name": "stdout",
     "output_type": "stream",
     "text": [
      "Epoch 94 average loss: 0.1347\n",
      "\n",
      "Epoch 95/200\n"
     ]
    },
    {
     "name": "stderr",
     "output_type": "stream",
     "text": [
      "Train loss: 0.1104: 100%|██████████| 108/108 [02:17<00:00,  1.28s/it]\n"
     ]
    },
    {
     "name": "stdout",
     "output_type": "stream",
     "text": [
      "Epoch 95 average loss: 0.1298\n",
      "\n",
      "Epoch 96/200\n"
     ]
    },
    {
     "name": "stderr",
     "output_type": "stream",
     "text": [
      "Train loss: 0.0807: 100%|██████████| 108/108 [02:16<00:00,  1.26s/it]\n"
     ]
    },
    {
     "name": "stdout",
     "output_type": "stream",
     "text": [
      "Epoch 96 average loss: 0.1344\n",
      "\n",
      "Epoch 97/200\n"
     ]
    },
    {
     "name": "stderr",
     "output_type": "stream",
     "text": [
      "Train loss: 0.0946: 100%|██████████| 108/108 [02:17<00:00,  1.28s/it]\n"
     ]
    },
    {
     "name": "stdout",
     "output_type": "stream",
     "text": [
      "Epoch 97 average loss: 0.1303\n",
      "\n",
      "Epoch 98/200\n"
     ]
    },
    {
     "name": "stderr",
     "output_type": "stream",
     "text": [
      "Train loss: 0.0853: 100%|██████████| 108/108 [02:15<00:00,  1.26s/it]\n"
     ]
    },
    {
     "name": "stdout",
     "output_type": "stream",
     "text": [
      "Epoch 98 average loss: 0.1294\n",
      "\n",
      "Epoch 99/200\n"
     ]
    },
    {
     "name": "stderr",
     "output_type": "stream",
     "text": [
      "Train loss: 0.1185: 100%|██████████| 108/108 [02:22<00:00,  1.32s/it]\n"
     ]
    },
    {
     "name": "stdout",
     "output_type": "stream",
     "text": [
      "Epoch 99 average loss: 0.1294\n",
      "\n",
      "Epoch 100/200\n"
     ]
    },
    {
     "name": "stderr",
     "output_type": "stream",
     "text": [
      "Train loss: 0.0725: 100%|██████████| 108/108 [02:12<00:00,  1.23s/it]\n"
     ]
    },
    {
     "name": "stdout",
     "output_type": "stream",
     "text": [
      "Epoch 100 average loss: 0.1286\n"
     ]
    },
    {
     "name": "stderr",
     "output_type": "stream",
     "text": [
      "Validation: 100%|██████████| 7/7 [00:29<00:00,  4.26s/it]\n"
     ]
    },
    {
     "name": "stdout",
     "output_type": "stream",
     "text": [
      "Validation loss: 0.1302, Dice score: 0.8428\n",
      "\n",
      "Epoch 101/200\n"
     ]
    },
    {
     "name": "stderr",
     "output_type": "stream",
     "text": [
      "Train loss: 0.0856: 100%|██████████| 108/108 [02:13<00:00,  1.23s/it]\n"
     ]
    },
    {
     "name": "stdout",
     "output_type": "stream",
     "text": [
      "Epoch 101 average loss: 0.1281\n",
      "\n",
      "Epoch 102/200\n"
     ]
    },
    {
     "name": "stderr",
     "output_type": "stream",
     "text": [
      "Train loss: 0.1796: 100%|██████████| 108/108 [02:19<00:00,  1.29s/it]\n"
     ]
    },
    {
     "name": "stdout",
     "output_type": "stream",
     "text": [
      "Epoch 102 average loss: 0.1287\n",
      "\n",
      "Epoch 103/200\n"
     ]
    },
    {
     "name": "stderr",
     "output_type": "stream",
     "text": [
      "Train loss: 0.1264: 100%|██████████| 108/108 [02:15<00:00,  1.26s/it]\n"
     ]
    },
    {
     "name": "stdout",
     "output_type": "stream",
     "text": [
      "Epoch 103 average loss: 0.1272\n",
      "\n",
      "Epoch 104/200\n"
     ]
    },
    {
     "name": "stderr",
     "output_type": "stream",
     "text": [
      "Train loss: 0.0762: 100%|██████████| 108/108 [02:14<00:00,  1.25s/it]\n"
     ]
    },
    {
     "name": "stdout",
     "output_type": "stream",
     "text": [
      "Epoch 104 average loss: 0.1237\n",
      "\n",
      "Epoch 105/200\n"
     ]
    },
    {
     "name": "stderr",
     "output_type": "stream",
     "text": [
      "Train loss: 0.1739: 100%|██████████| 108/108 [02:15<00:00,  1.25s/it]\n"
     ]
    },
    {
     "name": "stdout",
     "output_type": "stream",
     "text": [
      "Epoch 105 average loss: 0.1285\n",
      "\n",
      "Epoch 106/200\n"
     ]
    },
    {
     "name": "stderr",
     "output_type": "stream",
     "text": [
      "Train loss: 0.0938: 100%|██████████| 108/108 [02:20<00:00,  1.30s/it]\n"
     ]
    },
    {
     "name": "stdout",
     "output_type": "stream",
     "text": [
      "Epoch 106 average loss: 0.1278\n",
      "\n",
      "Epoch 107/200\n"
     ]
    },
    {
     "name": "stderr",
     "output_type": "stream",
     "text": [
      "Train loss: 0.0718: 100%|██████████| 108/108 [02:16<00:00,  1.26s/it]\n"
     ]
    },
    {
     "name": "stdout",
     "output_type": "stream",
     "text": [
      "Epoch 107 average loss: 0.1270\n",
      "\n",
      "Epoch 108/200\n"
     ]
    },
    {
     "name": "stderr",
     "output_type": "stream",
     "text": [
      "Train loss: 0.0815: 100%|██████████| 108/108 [02:23<00:00,  1.32s/it]\n"
     ]
    },
    {
     "name": "stdout",
     "output_type": "stream",
     "text": [
      "Epoch 108 average loss: 0.1276\n",
      "\n",
      "Epoch 109/200\n"
     ]
    },
    {
     "name": "stderr",
     "output_type": "stream",
     "text": [
      "Train loss: 0.1829: 100%|██████████| 108/108 [02:19<00:00,  1.29s/it]\n"
     ]
    },
    {
     "name": "stdout",
     "output_type": "stream",
     "text": [
      "Epoch 109 average loss: 0.1273\n",
      "\n",
      "Epoch 110/200\n"
     ]
    },
    {
     "name": "stderr",
     "output_type": "stream",
     "text": [
      "Train loss: 0.0838: 100%|██████████| 108/108 [02:16<00:00,  1.26s/it]\n"
     ]
    },
    {
     "name": "stdout",
     "output_type": "stream",
     "text": [
      "Epoch 110 average loss: 0.1233\n"
     ]
    },
    {
     "name": "stderr",
     "output_type": "stream",
     "text": [
      "Validation: 100%|██████████| 7/7 [00:29<00:00,  4.28s/it]\n"
     ]
    },
    {
     "name": "stdout",
     "output_type": "stream",
     "text": [
      "Validation loss: 0.1250, Dice score: 0.8488\n",
      "\n",
      "Epoch 111/200\n"
     ]
    },
    {
     "name": "stderr",
     "output_type": "stream",
     "text": [
      "Train loss: 0.1389: 100%|██████████| 108/108 [02:25<00:00,  1.35s/it]\n"
     ]
    },
    {
     "name": "stdout",
     "output_type": "stream",
     "text": [
      "Epoch 111 average loss: 0.1257\n",
      "\n",
      "Epoch 112/200\n"
     ]
    },
    {
     "name": "stderr",
     "output_type": "stream",
     "text": [
      "Train loss: 0.1204: 100%|██████████| 108/108 [02:21<00:00,  1.31s/it]\n"
     ]
    },
    {
     "name": "stdout",
     "output_type": "stream",
     "text": [
      "Epoch 112 average loss: 0.1256\n",
      "\n",
      "Epoch 113/200\n"
     ]
    },
    {
     "name": "stderr",
     "output_type": "stream",
     "text": [
      "Train loss: 0.1171: 100%|██████████| 108/108 [02:24<00:00,  1.34s/it]\n"
     ]
    },
    {
     "name": "stdout",
     "output_type": "stream",
     "text": [
      "Epoch 113 average loss: 0.1225\n",
      "\n",
      "Epoch 114/200\n"
     ]
    },
    {
     "name": "stderr",
     "output_type": "stream",
     "text": [
      "Train loss: 0.1163: 100%|██████████| 108/108 [02:21<00:00,  1.31s/it]\n"
     ]
    },
    {
     "name": "stdout",
     "output_type": "stream",
     "text": [
      "Epoch 114 average loss: 0.1246\n",
      "\n",
      "Epoch 115/200\n"
     ]
    },
    {
     "name": "stderr",
     "output_type": "stream",
     "text": [
      "Train loss: 0.0846: 100%|██████████| 108/108 [02:18<00:00,  1.28s/it]\n"
     ]
    },
    {
     "name": "stdout",
     "output_type": "stream",
     "text": [
      "Epoch 115 average loss: 0.1226\n",
      "\n",
      "Epoch 116/200\n"
     ]
    },
    {
     "name": "stderr",
     "output_type": "stream",
     "text": [
      "Train loss: 0.0753: 100%|██████████| 108/108 [02:14<00:00,  1.25s/it]\n"
     ]
    },
    {
     "name": "stdout",
     "output_type": "stream",
     "text": [
      "Epoch 116 average loss: 0.1237\n",
      "\n",
      "Epoch 117/200\n"
     ]
    },
    {
     "name": "stderr",
     "output_type": "stream",
     "text": [
      "Train loss: 0.0859: 100%|██████████| 108/108 [02:09<00:00,  1.20s/it]\n"
     ]
    },
    {
     "name": "stdout",
     "output_type": "stream",
     "text": [
      "Epoch 117 average loss: 0.1247\n",
      "\n",
      "Epoch 118/200\n"
     ]
    },
    {
     "name": "stderr",
     "output_type": "stream",
     "text": [
      "Train loss: 0.1502: 100%|██████████| 108/108 [02:09<00:00,  1.20s/it]\n"
     ]
    },
    {
     "name": "stdout",
     "output_type": "stream",
     "text": [
      "Epoch 118 average loss: 0.1258\n",
      "\n",
      "Epoch 119/200\n"
     ]
    },
    {
     "name": "stderr",
     "output_type": "stream",
     "text": [
      "Train loss: 0.1080: 100%|██████████| 108/108 [02:07<00:00,  1.18s/it]\n"
     ]
    },
    {
     "name": "stdout",
     "output_type": "stream",
     "text": [
      "Epoch 119 average loss: 0.1243\n",
      "\n",
      "Epoch 120/200\n"
     ]
    },
    {
     "name": "stderr",
     "output_type": "stream",
     "text": [
      "Train loss: 0.0683: 100%|██████████| 108/108 [02:06<00:00,  1.17s/it]\n"
     ]
    },
    {
     "name": "stdout",
     "output_type": "stream",
     "text": [
      "Epoch 120 average loss: 0.1210\n"
     ]
    },
    {
     "name": "stderr",
     "output_type": "stream",
     "text": [
      "Validation: 100%|██████████| 7/7 [00:30<00:00,  4.29s/it]\n"
     ]
    },
    {
     "name": "stdout",
     "output_type": "stream",
     "text": [
      "Validation loss: 0.1172, Dice score: 0.8573\n",
      "Saved new best model (Dice: 0.8573)\n",
      "\n",
      "Epoch 121/200\n"
     ]
    },
    {
     "name": "stderr",
     "output_type": "stream",
     "text": [
      "Train loss: 0.0920: 100%|██████████| 108/108 [02:12<00:00,  1.23s/it]\n"
     ]
    },
    {
     "name": "stdout",
     "output_type": "stream",
     "text": [
      "Epoch 121 average loss: 0.1221\n",
      "\n",
      "Epoch 122/200\n"
     ]
    },
    {
     "name": "stderr",
     "output_type": "stream",
     "text": [
      "Train loss: 0.2441: 100%|██████████| 108/108 [02:12<00:00,  1.23s/it]\n"
     ]
    },
    {
     "name": "stdout",
     "output_type": "stream",
     "text": [
      "Epoch 122 average loss: 0.1237\n",
      "\n",
      "Epoch 123/200\n"
     ]
    },
    {
     "name": "stderr",
     "output_type": "stream",
     "text": [
      "Train loss: 0.0824: 100%|██████████| 108/108 [02:20<00:00,  1.30s/it]\n"
     ]
    },
    {
     "name": "stdout",
     "output_type": "stream",
     "text": [
      "Epoch 123 average loss: 0.1230\n",
      "\n",
      "Epoch 124/200\n"
     ]
    },
    {
     "name": "stderr",
     "output_type": "stream",
     "text": [
      "Train loss: 0.1268: 100%|██████████| 108/108 [02:23<00:00,  1.33s/it]\n"
     ]
    },
    {
     "name": "stdout",
     "output_type": "stream",
     "text": [
      "Epoch 124 average loss: 0.1229\n",
      "\n",
      "Epoch 125/200\n"
     ]
    },
    {
     "name": "stderr",
     "output_type": "stream",
     "text": [
      "Train loss: 0.0930: 100%|██████████| 108/108 [02:19<00:00,  1.29s/it]\n"
     ]
    },
    {
     "name": "stdout",
     "output_type": "stream",
     "text": [
      "Epoch 125 average loss: 0.1228\n",
      "\n",
      "Epoch 126/200\n"
     ]
    },
    {
     "name": "stderr",
     "output_type": "stream",
     "text": [
      "Train loss: 0.1084: 100%|██████████| 108/108 [02:23<00:00,  1.33s/it]\n"
     ]
    },
    {
     "name": "stdout",
     "output_type": "stream",
     "text": [
      "Epoch 126 average loss: 0.1209\n",
      "\n",
      "Epoch 127/200\n"
     ]
    },
    {
     "name": "stderr",
     "output_type": "stream",
     "text": [
      "Train loss: 0.1393: 100%|██████████| 108/108 [02:22<00:00,  1.32s/it]\n"
     ]
    },
    {
     "name": "stdout",
     "output_type": "stream",
     "text": [
      "Epoch 127 average loss: 0.1256\n",
      "\n",
      "Epoch 128/200\n"
     ]
    },
    {
     "name": "stderr",
     "output_type": "stream",
     "text": [
      "Train loss: 0.1092: 100%|██████████| 108/108 [02:22<00:00,  1.32s/it]\n"
     ]
    },
    {
     "name": "stdout",
     "output_type": "stream",
     "text": [
      "Epoch 128 average loss: 0.1206\n",
      "\n",
      "Epoch 129/200\n"
     ]
    },
    {
     "name": "stderr",
     "output_type": "stream",
     "text": [
      "Train loss: 0.1435: 100%|██████████| 108/108 [02:19<00:00,  1.29s/it]\n"
     ]
    },
    {
     "name": "stdout",
     "output_type": "stream",
     "text": [
      "Epoch 129 average loss: 0.1193\n",
      "\n",
      "Epoch 130/200\n"
     ]
    },
    {
     "name": "stderr",
     "output_type": "stream",
     "text": [
      "Train loss: 0.0924: 100%|██████████| 108/108 [02:21<00:00,  1.31s/it]\n"
     ]
    },
    {
     "name": "stdout",
     "output_type": "stream",
     "text": [
      "Epoch 130 average loss: 0.1209\n"
     ]
    },
    {
     "name": "stderr",
     "output_type": "stream",
     "text": [
      "Validation: 100%|██████████| 7/7 [00:30<00:00,  4.33s/it]\n"
     ]
    },
    {
     "name": "stdout",
     "output_type": "stream",
     "text": [
      "Validation loss: 0.1166, Dice score: 0.8582\n",
      "Saved new best model (Dice: 0.8582)\n",
      "\n",
      "Epoch 131/200\n"
     ]
    },
    {
     "name": "stderr",
     "output_type": "stream",
     "text": [
      "Train loss: 0.1320: 100%|██████████| 108/108 [02:20<00:00,  1.30s/it]\n"
     ]
    },
    {
     "name": "stdout",
     "output_type": "stream",
     "text": [
      "Epoch 131 average loss: 0.1210\n",
      "\n",
      "Epoch 132/200\n"
     ]
    },
    {
     "name": "stderr",
     "output_type": "stream",
     "text": [
      "Train loss: 0.0789: 100%|██████████| 108/108 [02:23<00:00,  1.33s/it]\n"
     ]
    },
    {
     "name": "stdout",
     "output_type": "stream",
     "text": [
      "Epoch 132 average loss: 0.1227\n",
      "\n",
      "Epoch 133/200\n"
     ]
    },
    {
     "name": "stderr",
     "output_type": "stream",
     "text": [
      "Train loss: 0.1436: 100%|██████████| 108/108 [02:19<00:00,  1.29s/it]\n"
     ]
    },
    {
     "name": "stdout",
     "output_type": "stream",
     "text": [
      "Epoch 133 average loss: 0.1194\n",
      "\n",
      "Epoch 134/200\n"
     ]
    },
    {
     "name": "stderr",
     "output_type": "stream",
     "text": [
      "Train loss: 0.0617: 100%|██████████| 108/108 [02:21<00:00,  1.31s/it]\n"
     ]
    },
    {
     "name": "stdout",
     "output_type": "stream",
     "text": [
      "Epoch 134 average loss: 0.1197\n",
      "\n",
      "Epoch 135/200\n"
     ]
    },
    {
     "name": "stderr",
     "output_type": "stream",
     "text": [
      "Train loss: 0.0697: 100%|██████████| 108/108 [02:21<00:00,  1.31s/it]\n"
     ]
    },
    {
     "name": "stdout",
     "output_type": "stream",
     "text": [
      "Epoch 135 average loss: 0.1169\n",
      "\n",
      "Epoch 136/200\n"
     ]
    },
    {
     "name": "stderr",
     "output_type": "stream",
     "text": [
      "Train loss: 0.1401: 100%|██████████| 108/108 [02:17<00:00,  1.27s/it]\n"
     ]
    },
    {
     "name": "stdout",
     "output_type": "stream",
     "text": [
      "Epoch 136 average loss: 0.1229\n",
      "\n",
      "Epoch 137/200\n"
     ]
    },
    {
     "name": "stderr",
     "output_type": "stream",
     "text": [
      "Train loss: 0.0840: 100%|██████████| 108/108 [02:13<00:00,  1.23s/it]\n"
     ]
    },
    {
     "name": "stdout",
     "output_type": "stream",
     "text": [
      "Epoch 137 average loss: 0.1179\n",
      "\n",
      "Epoch 138/200\n"
     ]
    },
    {
     "name": "stderr",
     "output_type": "stream",
     "text": [
      "Train loss: 0.0802: 100%|██████████| 108/108 [02:16<00:00,  1.27s/it]\n"
     ]
    },
    {
     "name": "stdout",
     "output_type": "stream",
     "text": [
      "Epoch 138 average loss: 0.1173\n",
      "\n",
      "Epoch 139/200\n"
     ]
    },
    {
     "name": "stderr",
     "output_type": "stream",
     "text": [
      "Train loss: 0.0966: 100%|██████████| 108/108 [02:16<00:00,  1.27s/it]\n"
     ]
    },
    {
     "name": "stdout",
     "output_type": "stream",
     "text": [
      "Epoch 139 average loss: 0.1181\n",
      "\n",
      "Epoch 140/200\n"
     ]
    },
    {
     "name": "stderr",
     "output_type": "stream",
     "text": [
      "Train loss: 0.0772: 100%|██████████| 108/108 [02:14<00:00,  1.24s/it]\n"
     ]
    },
    {
     "name": "stdout",
     "output_type": "stream",
     "text": [
      "Epoch 140 average loss: 0.1172\n"
     ]
    },
    {
     "name": "stderr",
     "output_type": "stream",
     "text": [
      "Validation: 100%|██████████| 7/7 [00:30<00:00,  4.30s/it]\n"
     ]
    },
    {
     "name": "stdout",
     "output_type": "stream",
     "text": [
      "Validation loss: 0.1246, Dice score: 0.8469\n",
      "\n",
      "Epoch 141/200\n"
     ]
    },
    {
     "name": "stderr",
     "output_type": "stream",
     "text": [
      "Train loss: 0.0823: 100%|██████████| 108/108 [02:15<00:00,  1.25s/it]\n"
     ]
    },
    {
     "name": "stdout",
     "output_type": "stream",
     "text": [
      "Epoch 141 average loss: 0.1179\n",
      "\n",
      "Epoch 142/200\n"
     ]
    },
    {
     "name": "stderr",
     "output_type": "stream",
     "text": [
      "Train loss: 0.1514: 100%|██████████| 108/108 [02:15<00:00,  1.25s/it]\n"
     ]
    },
    {
     "name": "stdout",
     "output_type": "stream",
     "text": [
      "Epoch 142 average loss: 0.1174\n",
      "\n",
      "Epoch 143/200\n"
     ]
    },
    {
     "name": "stderr",
     "output_type": "stream",
     "text": [
      "Train loss: 0.0791: 100%|██████████| 108/108 [02:12<00:00,  1.23s/it]\n"
     ]
    },
    {
     "name": "stdout",
     "output_type": "stream",
     "text": [
      "Epoch 143 average loss: 0.1207\n",
      "\n",
      "Epoch 144/200\n"
     ]
    },
    {
     "name": "stderr",
     "output_type": "stream",
     "text": [
      "Train loss: 0.2438: 100%|██████████| 108/108 [02:15<00:00,  1.26s/it]\n"
     ]
    },
    {
     "name": "stdout",
     "output_type": "stream",
     "text": [
      "Epoch 144 average loss: 0.1170\n",
      "\n",
      "Epoch 145/200\n"
     ]
    },
    {
     "name": "stderr",
     "output_type": "stream",
     "text": [
      "Train loss: 0.2255: 100%|██████████| 108/108 [02:21<00:00,  1.31s/it]\n"
     ]
    },
    {
     "name": "stdout",
     "output_type": "stream",
     "text": [
      "Epoch 145 average loss: 0.1179\n",
      "\n",
      "Epoch 146/200\n"
     ]
    },
    {
     "name": "stderr",
     "output_type": "stream",
     "text": [
      "Train loss: 0.0822: 100%|██████████| 108/108 [02:20<00:00,  1.30s/it]\n"
     ]
    },
    {
     "name": "stdout",
     "output_type": "stream",
     "text": [
      "Epoch 146 average loss: 0.1157\n",
      "\n",
      "Epoch 147/200\n"
     ]
    },
    {
     "name": "stderr",
     "output_type": "stream",
     "text": [
      "Train loss: 0.1058: 100%|██████████| 108/108 [02:22<00:00,  1.32s/it]\n"
     ]
    },
    {
     "name": "stdout",
     "output_type": "stream",
     "text": [
      "Epoch 147 average loss: 0.1153\n",
      "\n",
      "Epoch 148/200\n"
     ]
    },
    {
     "name": "stderr",
     "output_type": "stream",
     "text": [
      "Train loss: 0.0955: 100%|██████████| 108/108 [02:17<00:00,  1.27s/it]\n"
     ]
    },
    {
     "name": "stdout",
     "output_type": "stream",
     "text": [
      "Epoch 148 average loss: 0.1187\n",
      "\n",
      "Epoch 149/200\n"
     ]
    },
    {
     "name": "stderr",
     "output_type": "stream",
     "text": [
      "Train loss: 0.0830: 100%|██████████| 108/108 [02:18<00:00,  1.28s/it]\n"
     ]
    },
    {
     "name": "stdout",
     "output_type": "stream",
     "text": [
      "Epoch 149 average loss: 0.1178\n",
      "\n",
      "Epoch 150/200\n"
     ]
    },
    {
     "name": "stderr",
     "output_type": "stream",
     "text": [
      "Train loss: 0.0849: 100%|██████████| 108/108 [02:19<00:00,  1.30s/it]\n"
     ]
    },
    {
     "name": "stdout",
     "output_type": "stream",
     "text": [
      "Epoch 150 average loss: 0.1143\n"
     ]
    },
    {
     "name": "stderr",
     "output_type": "stream",
     "text": [
      "Validation: 100%|██████████| 7/7 [00:30<00:00,  4.32s/it]\n"
     ]
    },
    {
     "name": "stdout",
     "output_type": "stream",
     "text": [
      "Validation loss: 0.1153, Dice score: 0.8589\n",
      "Saved new best model (Dice: 0.8589)\n",
      "\n",
      "Epoch 151/200\n"
     ]
    },
    {
     "name": "stderr",
     "output_type": "stream",
     "text": [
      "Train loss: 0.1142: 100%|██████████| 108/108 [02:19<00:00,  1.29s/it]\n"
     ]
    },
    {
     "name": "stdout",
     "output_type": "stream",
     "text": [
      "Epoch 151 average loss: 0.1200\n",
      "\n",
      "Epoch 152/200\n"
     ]
    },
    {
     "name": "stderr",
     "output_type": "stream",
     "text": [
      "Train loss: 0.1050: 100%|██████████| 108/108 [02:18<00:00,  1.28s/it]\n"
     ]
    },
    {
     "name": "stdout",
     "output_type": "stream",
     "text": [
      "Epoch 152 average loss: 0.1150\n",
      "\n",
      "Epoch 153/200\n"
     ]
    },
    {
     "name": "stderr",
     "output_type": "stream",
     "text": [
      "Train loss: 0.1289: 100%|██████████| 108/108 [02:15<00:00,  1.26s/it]\n"
     ]
    },
    {
     "name": "stdout",
     "output_type": "stream",
     "text": [
      "Epoch 153 average loss: 0.1141\n",
      "\n",
      "Epoch 154/200\n"
     ]
    },
    {
     "name": "stderr",
     "output_type": "stream",
     "text": [
      "Train loss: 0.1859: 100%|██████████| 108/108 [02:17<00:00,  1.28s/it]\n"
     ]
    },
    {
     "name": "stdout",
     "output_type": "stream",
     "text": [
      "Epoch 154 average loss: 0.1172\n",
      "\n",
      "Epoch 155/200\n"
     ]
    },
    {
     "name": "stderr",
     "output_type": "stream",
     "text": [
      "Train loss: 0.1221: 100%|██████████| 108/108 [02:18<00:00,  1.28s/it]\n"
     ]
    },
    {
     "name": "stdout",
     "output_type": "stream",
     "text": [
      "Epoch 155 average loss: 0.1164\n",
      "\n",
      "Epoch 156/200\n"
     ]
    },
    {
     "name": "stderr",
     "output_type": "stream",
     "text": [
      "Train loss: 0.1112: 100%|██████████| 108/108 [02:16<00:00,  1.27s/it]\n"
     ]
    },
    {
     "name": "stdout",
     "output_type": "stream",
     "text": [
      "Epoch 156 average loss: 0.1152\n",
      "\n",
      "Epoch 157/200\n"
     ]
    },
    {
     "name": "stderr",
     "output_type": "stream",
     "text": [
      "Train loss: 0.1762: 100%|██████████| 108/108 [02:18<00:00,  1.29s/it]\n"
     ]
    },
    {
     "name": "stdout",
     "output_type": "stream",
     "text": [
      "Epoch 157 average loss: 0.1140\n",
      "\n",
      "Epoch 158/200\n"
     ]
    },
    {
     "name": "stderr",
     "output_type": "stream",
     "text": [
      "Train loss: 0.0660: 100%|██████████| 108/108 [02:19<00:00,  1.29s/it]\n"
     ]
    },
    {
     "name": "stdout",
     "output_type": "stream",
     "text": [
      "Epoch 158 average loss: 0.1144\n",
      "\n",
      "Epoch 159/200\n"
     ]
    },
    {
     "name": "stderr",
     "output_type": "stream",
     "text": [
      "Train loss: 0.0774: 100%|██████████| 108/108 [02:16<00:00,  1.26s/it]\n"
     ]
    },
    {
     "name": "stdout",
     "output_type": "stream",
     "text": [
      "Epoch 159 average loss: 0.1130\n",
      "\n",
      "Epoch 160/200\n"
     ]
    },
    {
     "name": "stderr",
     "output_type": "stream",
     "text": [
      "Train loss: 0.1093: 100%|██████████| 108/108 [02:16<00:00,  1.27s/it]\n"
     ]
    },
    {
     "name": "stdout",
     "output_type": "stream",
     "text": [
      "Epoch 160 average loss: 0.1146\n"
     ]
    },
    {
     "name": "stderr",
     "output_type": "stream",
     "text": [
      "Validation: 100%|██████████| 7/7 [00:29<00:00,  4.23s/it]\n"
     ]
    },
    {
     "name": "stdout",
     "output_type": "stream",
     "text": [
      "Validation loss: 0.1161, Dice score: 0.8576\n",
      "\n",
      "Epoch 161/200\n"
     ]
    },
    {
     "name": "stderr",
     "output_type": "stream",
     "text": [
      "Train loss: 0.0697: 100%|██████████| 108/108 [02:15<00:00,  1.26s/it]\n"
     ]
    },
    {
     "name": "stdout",
     "output_type": "stream",
     "text": [
      "Epoch 161 average loss: 0.1137\n",
      "\n",
      "Epoch 162/200\n"
     ]
    },
    {
     "name": "stderr",
     "output_type": "stream",
     "text": [
      "Train loss: 0.1037: 100%|██████████| 108/108 [02:14<00:00,  1.25s/it]\n"
     ]
    },
    {
     "name": "stdout",
     "output_type": "stream",
     "text": [
      "Epoch 162 average loss: 0.1130\n",
      "\n",
      "Epoch 163/200\n"
     ]
    },
    {
     "name": "stderr",
     "output_type": "stream",
     "text": [
      "Train loss: 0.0818: 100%|██████████| 108/108 [02:14<00:00,  1.24s/it]\n"
     ]
    },
    {
     "name": "stdout",
     "output_type": "stream",
     "text": [
      "Epoch 163 average loss: 0.1165\n",
      "\n",
      "Epoch 164/200\n"
     ]
    },
    {
     "name": "stderr",
     "output_type": "stream",
     "text": [
      "Train loss: 0.1184: 100%|██████████| 108/108 [02:13<00:00,  1.24s/it]\n"
     ]
    },
    {
     "name": "stdout",
     "output_type": "stream",
     "text": [
      "Epoch 164 average loss: 0.1105\n",
      "\n",
      "Epoch 165/200\n"
     ]
    },
    {
     "name": "stderr",
     "output_type": "stream",
     "text": [
      "Train loss: 0.1812: 100%|██████████| 108/108 [02:10<00:00,  1.20s/it]\n"
     ]
    },
    {
     "name": "stdout",
     "output_type": "stream",
     "text": [
      "Epoch 165 average loss: 0.1155\n",
      "\n",
      "Epoch 166/200\n"
     ]
    },
    {
     "name": "stderr",
     "output_type": "stream",
     "text": [
      "Train loss: 0.0765: 100%|██████████| 108/108 [02:08<00:00,  1.19s/it]\n"
     ]
    },
    {
     "name": "stdout",
     "output_type": "stream",
     "text": [
      "Epoch 166 average loss: 0.1164\n",
      "\n",
      "Epoch 167/200\n"
     ]
    },
    {
     "name": "stderr",
     "output_type": "stream",
     "text": [
      "Train loss: 0.0744: 100%|██████████| 108/108 [02:11<00:00,  1.22s/it]\n"
     ]
    },
    {
     "name": "stdout",
     "output_type": "stream",
     "text": [
      "Epoch 167 average loss: 0.1152\n",
      "\n",
      "Epoch 168/200\n"
     ]
    },
    {
     "name": "stderr",
     "output_type": "stream",
     "text": [
      "Train loss: 0.1946: 100%|██████████| 108/108 [02:10<00:00,  1.21s/it]\n"
     ]
    },
    {
     "name": "stdout",
     "output_type": "stream",
     "text": [
      "Epoch 168 average loss: 0.1122\n",
      "\n",
      "Epoch 169/200\n"
     ]
    },
    {
     "name": "stderr",
     "output_type": "stream",
     "text": [
      "Train loss: 0.0649: 100%|██████████| 108/108 [02:07<00:00,  1.18s/it]\n"
     ]
    },
    {
     "name": "stdout",
     "output_type": "stream",
     "text": [
      "Epoch 169 average loss: 0.1154\n",
      "\n",
      "Epoch 170/200\n"
     ]
    },
    {
     "name": "stderr",
     "output_type": "stream",
     "text": [
      "Train loss: 0.0727: 100%|██████████| 108/108 [02:05<00:00,  1.16s/it]\n"
     ]
    },
    {
     "name": "stdout",
     "output_type": "stream",
     "text": [
      "Epoch 170 average loss: 0.1114\n"
     ]
    },
    {
     "name": "stderr",
     "output_type": "stream",
     "text": [
      "Validation: 100%|██████████| 7/7 [00:29<00:00,  4.24s/it]\n"
     ]
    },
    {
     "name": "stdout",
     "output_type": "stream",
     "text": [
      "Validation loss: 0.1169, Dice score: 0.8567\n",
      "\n",
      "Epoch 171/200\n"
     ]
    },
    {
     "name": "stderr",
     "output_type": "stream",
     "text": [
      "Train loss: 0.1047: 100%|██████████| 108/108 [02:13<00:00,  1.24s/it]\n"
     ]
    },
    {
     "name": "stdout",
     "output_type": "stream",
     "text": [
      "Epoch 171 average loss: 0.1119\n",
      "\n",
      "Epoch 172/200\n"
     ]
    },
    {
     "name": "stderr",
     "output_type": "stream",
     "text": [
      "Train loss: 0.1213:  74%|███████▍  | 80/108 [01:35<00:28,  1.03s/it]"
     ]
    }
   ],
   "source": [
    "# Main function to run the training pipeline\n",
    "def main():\n",
    "    # Get data\n",
    "    train_files, val_files = get_data_dicts(data_dir)\n",
    "    \n",
    "    # Get transforms\n",
    "    train_transforms, val_transforms = get_transforms()\n",
    "    \n",
    "    # Get dataloaders\n",
    "    train_loader, val_loader = get_dataloaders(train_files, val_files, train_transforms, val_transforms, cache=True)\n",
    "    \n",
    "    # Get model\n",
    "    model = get_model()  # 1 input channel (RAW), 3 output channels (CSF, GM, WM)\n",
    "    model = model.to(device)\n",
    "    \n",
    "    # Train model\n",
    "    model, best_metric, best_metric_epoch = train(model, train_loader, val_loader, max_epochs=200, val_interval=10)\n",
    "    \n",
    "    # Save final model\n",
    "    torch.save(model.state_dict(), os.path.join(train_output_dir, \"final_model.pth\"))\n",
    "    \n",
    "    # Visualize class-wise dice scores\n",
    "    print(\"Evaluating class-wise performance...\")\n",
    "    class_dice_scores = visualize_class_dice(model, val_loader, class_names=[\"CSF\", \"GM\", \"WM\"])\n",
    "    \n",
    "    # Create training progress visualization\n",
    "    print(\"Generating training progress plots...\")\n",
    "    \n",
    "    # Example: Create a visualization of sample predictions at different training stages\n",
    "    # Load the best model\n",
    "    best_model = get_model().to(device)\n",
    "    best_model.load_state_dict(torch.load(os.path.join(train_output_dir, \"best_model.pth\")))\n",
    "    best_model.eval()\n",
    "    \n",
    "    # Visualize predictions on a validation sample\n",
    "    with torch.no_grad():\n",
    "        for val_data in val_loader:\n",
    "            val_inputs = val_data[\"image\"].to(device)\n",
    "            val_labels = val_data[\"label\"].to(device)\n",
    "                \n",
    "            roi_size = (96, 96, 96)\n",
    "            sw_batch_size = 4\n",
    "            val_outputs = sliding_window_inference(val_inputs, roi_size, sw_batch_size, best_model)\n",
    "            \n",
    "            # Create final visualization\n",
    "            middle_slice = val_inputs.shape[4] // 2\n",
    "            \n",
    "            # Create a figure with 3D segmentation results\n",
    "            fig, axes = plt.subplots(2, 4, figsize=(20, 10))\n",
    "            \n",
    "            # Original MRI\n",
    "            axes[0, 0].set_title(\"Original MRI\")\n",
    "            axes[0, 0].imshow(val_inputs[0, 0, :, :, middle_slice].cpu().numpy(), cmap=\"gray\")\n",
    "            \n",
    "            # Ground truth segmentation - Each tissue type\n",
    "            axes[0, 1].set_title(\"CSF (Ground Truth)\")\n",
    "            axes[0, 1].imshow(val_labels[0, 0, :, :, middle_slice].cpu().numpy(), cmap=\"jet\")\n",
    "            \n",
    "            axes[0, 2].set_title(\"GM (Ground Truth)\")\n",
    "            axes[0, 2].imshow(val_labels[0, 1, :, :, middle_slice].cpu().numpy(), cmap=\"jet\")\n",
    "            \n",
    "            axes[0, 3].set_title(\"WM (Ground Truth)\")\n",
    "            axes[0, 3].imshow(val_labels[0, 2, :, :, middle_slice].cpu().numpy(), cmap=\"jet\")\n",
    "            \n",
    "            # Predicted segmentation - Each tissue type\n",
    "            axes[1, 1].set_title(\"CSF (Predicted)\")\n",
    "            axes[1, 1].imshow((val_outputs[0, 0, :, :, middle_slice] > 0.5).cpu().numpy(), cmap=\"jet\")\n",
    "            \n",
    "            axes[1, 2].set_title(\"GM (Predicted)\")\n",
    "            axes[1, 2].imshow((val_outputs[0, 1, :, :, middle_slice] > 0.5).cpu().numpy(), cmap=\"jet\")\n",
    "            \n",
    "            axes[1, 3].set_title(\"WM (Predicted)\")\n",
    "            axes[1, 3].imshow((val_outputs[0, 2, :, :, middle_slice] > 0.5).cpu().numpy(), cmap=\"jet\")\n",
    "            \n",
    "            # Combine predictions into a single color-coded image\n",
    "            combined_pred = np.zeros((val_outputs.shape[2], val_outputs.shape[3]))\n",
    "            for c in range(3):\n",
    "                combined_pred[val_outputs[0, c, :, :, middle_slice].cpu().numpy() > 0.5] = c + 1\n",
    "            \n",
    "            axes[1, 0].set_title(\"Combined Prediction\")\n",
    "            axes[1, 0].imshow(combined_pred, cmap=\"viridis\")\n",
    "            \n",
    "            plt.tight_layout()\n",
    "            plt.savefig(os.path.join(train_output_dir, \"final_segmentation_results.png\"))\n",
    "            plt.close()\n",
    "            \n",
    "            # Create an overlay visualization\n",
    "            plt.figure(\"Segmentation Overlay\", figsize=(10, 10))\n",
    "            plt.imshow(val_inputs[0, 0, :, :, middle_slice].cpu().numpy(), cmap=\"gray\")\n",
    "            \n",
    "            # Create an alpha mask for overlay\n",
    "            mask = np.zeros((val_outputs.shape[2], val_outputs.shape[3], 4))\n",
    "            colors = [(1, 0, 0, 0.5), (0, 1, 0, 0.5), (0, 0, 1, 0.5)]  # RGBA colors for CSF, GM, WM\n",
    "            \n",
    "            for c in range(3):\n",
    "                pred_mask = val_outputs[0, c, :, :, middle_slice].cpu().numpy() > 0.5\n",
    "                for i in range(4):  # RGBA channels\n",
    "                    mask[pred_mask, i] = colors[c][i]\n",
    "            \n",
    "            plt.imshow(mask)\n",
    "            plt.title(\"Segmentation Overlay (Red: CSF, Green: GM, Blue: WM)\")\n",
    "            plt.axis('off')\n",
    "            plt.tight_layout()\n",
    "            plt.savefig(os.path.join(train_output_dir, \"segmentation_overlay.png\"))\n",
    "            \n",
    "            break  # Just process one sample for visualization\n",
    "\n",
    "    print(f\"Training and evaluation completed. All results saved to {train_output_dir}\")\n",
    "\n",
    "if __name__ == \"__main__\":\n",
    "    main()"
   ]
  },
  {
   "cell_type": "code",
   "execution_count": null,
   "metadata": {},
   "outputs": [],
   "source": [
    "model = get_model()  # Initialize model\n",
    "model.load_state_dict(torch.load(\"/kaggle/working/final_model.pth\", map_location=device))  # Load weights\n",
    "model = model.to(device)  # Move to CUDA if available\n",
    "model.eval()  # Set to evaluation mode"
   ]
  },
  {
   "cell_type": "code",
   "execution_count": null,
   "metadata": {},
   "outputs": [],
   "source": [
    "visualize_class_dice(model, val_loader)"
   ]
  },
  {
   "cell_type": "code",
   "execution_count": null,
   "metadata": {},
   "outputs": [],
   "source": [
    "val_loader.to(device)"
   ]
  },
  {
   "cell_type": "code",
   "execution_count": null,
   "metadata": {},
   "outputs": [],
   "source": [
    "train_files, val_files = get_data_dicts(data_dir)\n",
    "    \n",
    "    # Get transforms\n",
    "train_transforms, val_transforms = get_transforms()\n",
    "    \n",
    "    # Get dataloaders\n",
    "train_loader, val_loader = get_dataloaders(train_files, val_files, train_transforms, val_transforms, cache=True)\n"
   ]
  },
  {
   "cell_type": "code",
   "execution_count": null,
   "metadata": {},
   "outputs": [],
   "source": [
    "# Add code to check dimensions of your validation data\n",
    "for i, item in enumerate(val_loader):\n",
    "    print(f\"Sample {i}, image shape: {item['image'].shape}, label shape: {item['label'].shape}\")"
   ]
  },
  {
   "cell_type": "code",
   "execution_count": null,
   "metadata": {},
   "outputs": [],
   "source": [
    "for i, item in enumerate(train_loader):\n",
    "    print(f\"Sample {i}, image shape: {item[0]['image'].shape}, label shape: {item[0]['label'].shape}\")"
   ]
  },
  {
   "cell_type": "code",
   "execution_count": null,
   "metadata": {},
   "outputs": [],
   "source": [
    "train_loader.shape"
   ]
  },
  {
   "cell_type": "code",
   "execution_count": null,
   "metadata": {},
   "outputs": [],
   "source": [
    "for i, item in enumerate(train_loader):\n",
    "    print(item[1]['image'])"
   ]
  },
  {
   "cell_type": "code",
   "execution_count": null,
   "metadata": {},
   "outputs": [],
   "source": [
    "model"
   ]
  },
  {
   "cell_type": "code",
   "execution_count": null,
   "metadata": {},
   "outputs": [],
   "source": []
  }
 ],
 "metadata": {
  "kaggle": {
   "accelerator": "gpu",
   "dataSources": [
    {
     "datasetId": 6775115,
     "sourceId": 10901363,
     "sourceType": "datasetVersion"
    }
   ],
   "dockerImageVersionId": 30919,
   "isGpuEnabled": true,
   "isInternetEnabled": true,
   "language": "python",
   "sourceType": "notebook"
  },
  "kernelspec": {
   "display_name": "Python 3 (ipykernel)",
   "language": "python",
   "name": "python3"
  },
  "language_info": {
   "codemirror_mode": {
    "name": "ipython",
    "version": 3
   },
   "file_extension": ".py",
   "mimetype": "text/x-python",
   "name": "python",
   "nbconvert_exporter": "python",
   "pygments_lexer": "ipython3",
   "version": "3.13.2"
  }
 },
 "nbformat": 4,
 "nbformat_minor": 4
}
